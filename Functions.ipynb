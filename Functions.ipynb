{
 "cells": [
  {
   "cell_type": "markdown",
   "metadata": {},
   "source": [
    "# Functions"
   ]
  },
  {
   "cell_type": "markdown",
   "metadata": {},
   "source": [
    "En este laboratorio pondremos en práctica algunos de los conceptos que hemos aprendido en los últimos días.\n",
    "\n",
    "`NOTA: En este laboratorio deberías intentar escribir todas las funciones por ti mismo utilizando solo la sintaxis más básica de Python y sin funciones como len, count, sum, max, min, in, etc. Dale una oportunidad. 🧑🏻‍💻👩🏻‍💻`\n",
    "\n",
    "La celda después de cada ejercicio contiene algunas pruebas para verificar si tu función funciona como se espera."
   ]
  },
  {
   "cell_type": "code",
   "execution_count": 18,
   "metadata": {},
   "outputs": [],
   "source": [
    "from mod.testing import *\n",
    "import unittest"
   ]
  },
  {
   "cell_type": "markdown",
   "metadata": {},
   "source": [
    "## 1. Escribe una función que devuelva el mayor de dos números"
   ]
  },
  {
   "cell_type": "code",
   "execution_count": 7,
   "metadata": {},
   "outputs": [],
   "source": [
    "def greater(a,b):\n",
    "    if a > b:\n",
    "        return a\n",
    "    if a < b:\n",
    "        return b\n",
    "#your code here#tu codigo aquí"
   ]
  },
  {
   "cell_type": "code",
   "execution_count": 9,
   "metadata": {},
   "outputs": [
    {
     "name": "stderr",
     "output_type": "stream",
     "text": [
      "....................................................................................................\n",
      "----------------------------------------------------------------------\n",
      "Ran 100 tests in 0.052s\n",
      "\n",
      "OK\n"
     ]
    },
    {
     "data": {
      "text/plain": [
       "False"
      ]
     },
     "execution_count": 9,
     "metadata": {},
     "output_type": "execute_result"
    }
   ],
   "source": [
    "# Para testear tu función\n",
    "test_greater(greater)==(2,3)"
   ]
  },
  {
   "cell_type": "markdown",
   "metadata": {},
   "source": [
    "## 2. Ahora escribe una función que devuelva el elemento más grande de una lista"
   ]
  },
  {
   "cell_type": "code",
   "execution_count": 11,
   "metadata": {},
   "outputs": [],
   "source": [
    "#tu codigo aquí\n",
    "def greatest(num):\n",
    "    max_num = 0\n",
    "    for i in num:\n",
    "        if i > max_num:\n",
    "            max_num = i\n",
    "    return max_num"
   ]
  },
  {
   "cell_type": "code",
   "execution_count": 31,
   "metadata": {},
   "outputs": [
    {
     "name": "stderr",
     "output_type": "stream",
     "text": [
      "....................................................................................................\n",
      "----------------------------------------------------------------------\n",
      "Ran 100 tests in 0.099s\n",
      "\n",
      "OK\n"
     ]
    }
   ],
   "source": [
    "# Para testear tu función\n",
    "test_greatest(greatest)"
   ]
  },
  {
   "cell_type": "markdown",
   "metadata": {},
   "source": [
    "## 3. Escribe una función que sume todos los elementos de una lista"
   ]
  },
  {
   "cell_type": "code",
   "execution_count": 15,
   "metadata": {},
   "outputs": [],
   "source": [
    "#tu codigo aquí\n",
    "def sum_all(lst):\n",
    "    nume = 0\n",
    "    for i in lst:\n",
    "        nume = i + nume\n",
    "        #print(nume , \"+\" , i ,\"=\")\n",
    "\n",
    "    return nume"
   ]
  },
  {
   "cell_type": "code",
   "execution_count": 17,
   "metadata": {
    "scrolled": true
   },
   "outputs": [
    {
     "name": "stderr",
     "output_type": "stream",
     "text": [
      "....................................................................................................\n",
      "----------------------------------------------------------------------\n",
      "Ran 100 tests in 0.053s\n",
      "\n",
      "OK\n"
     ]
    }
   ],
   "source": [
    "# Para testear tu función\n",
    "test_sum(sum_all)"
   ]
  },
  {
   "cell_type": "markdown",
   "metadata": {},
   "source": [
    "## 4. Escribe otra función que multiplique todos los elementos de una lista"
   ]
  },
  {
   "cell_type": "code",
   "execution_count": 19,
   "metadata": {},
   "outputs": [],
   "source": [
    "def mult_all(lst):\n",
    "    nume = 1\n",
    "    for i in lst:\n",
    "        nume = i * nume\n",
    "        #print(nume , \"*\" , i ,\"=\")\n",
    "\n",
    "    return nume"
   ]
  },
  {
   "cell_type": "code",
   "execution_count": 21,
   "metadata": {
    "scrolled": true
   },
   "outputs": [
    {
     "name": "stderr",
     "output_type": "stream",
     "text": [
      "....................................................................................................\n",
      "----------------------------------------------------------------------\n",
      "Ran 100 tests in 0.059s\n",
      "\n",
      "OK\n"
     ]
    }
   ],
   "source": [
    "# Para testear tu función\n",
    "test_mult(mult_all)"
   ]
  },
  {
   "cell_type": "markdown",
   "metadata": {},
   "source": [
    "## 5. Ahora combina esas dos ideas y escribe una función que reciba una lista y ya sea \"+\" o \"*\", y produzca el resultado acorde"
   ]
  },
  {
   "cell_type": "code",
   "execution_count": 23,
   "metadata": {},
   "outputs": [],
   "source": [
    "def oper_all(arr, oper = \"*\"):\n",
    "    nume = 0\n",
    "    if oper == \"*\":\n",
    "        nume = 1\n",
    "        for i in arr:\n",
    "            nume = i * nume\n",
    "    if oper == \"+\":\n",
    "        for i in arr:\n",
    "            nume = i + nume\n",
    "    return nume\n",
    "#tu codigo aquí"
   ]
  },
  {
   "cell_type": "code",
   "execution_count": 25,
   "metadata": {},
   "outputs": [
    {
     "name": "stderr",
     "output_type": "stream",
     "text": [
      "....................................................................................................\n",
      "----------------------------------------------------------------------\n",
      "Ran 100 tests in 0.061s\n",
      "\n",
      "OK\n"
     ]
    }
   ],
   "source": [
    "# Para testear tu función\n",
    "test_operations(oper_all)"
   ]
  },
  {
   "cell_type": "markdown",
   "metadata": {},
   "source": [
    "## 6. Escribe una función que devuelva el factorial de un número."
   ]
  },
  {
   "cell_type": "code",
   "execution_count": 27,
   "metadata": {},
   "outputs": [],
   "source": [
    "def factorial(n):\n",
    "    valor = 1\n",
    "    while n > 1:\n",
    "        valor = valor * n\n",
    "        n= n-1\n",
    "    return valor\n",
    "#tu codigo aquí"
   ]
  },
  {
   "cell_type": "code",
   "execution_count": 42,
   "metadata": {},
   "outputs": [],
   "source": [
    "def factorial(n):\n",
    "    valor = 1\n",
    "    for s in range (2,n+1):\n",
    "        valor *= s\n",
    "    return valor"
   ]
  },
  {
   "cell_type": "code",
   "execution_count": 1,
   "metadata": {},
   "outputs": [],
   "source": [
    "# Fórmula factorial\n",
    "# n! = n * (n - 1) *...*1\n",
    "\n",
    "# Este código define una función llamada \"factorial\" que toma una entrada \"n\". La función utiliza un bucle for para iterar a través del rango de números\n",
    "# desde 1 hasta n+1. Para cada número en ese rango, multiplica el valor actual de x por el número en el rango. Al final del bucle,\n",
    "# la función devuelve el valor final de x, que será el factorial del número de entrada \"n\".\n",
    "\n",
    "# El factorial de un entero positivo n es el producto de todos los enteros positivos menores o iguales a n.\n",
    "# Por ejemplo, el factorial de 6 (escrito \"6!\") es 6 * 5 * 4 * 3 * 2 * 1 = 720.\n",
    "\n",
    "# Así que esta función toma una entrada de cualquier entero positivo y devuelve el factorial de ese número."
   ]
  },
  {
   "cell_type": "code",
   "execution_count": 44,
   "metadata": {},
   "outputs": [
    {
     "name": "stderr",
     "output_type": "stream",
     "text": [
      "....................................................................................................\n",
      "----------------------------------------------------------------------\n",
      "Ran 100 tests in 0.098s\n",
      "\n",
      "OK\n"
     ]
    }
   ],
   "source": [
    "# This will test your function \n",
    "test_factorial(factorial)"
   ]
  },
  {
   "cell_type": "markdown",
   "metadata": {},
   "source": [
    "## 7. Escribe una función que tome una lista y devuelva una lista de los valores únicos.\n",
    "\n",
    "`NOTE: No podemos usar set. 🤔`"
   ]
  },
  {
   "cell_type": "code",
   "execution_count": 50,
   "metadata": {},
   "outputs": [],
   "source": [
    "def unique(lst_un):\n",
    "    resultado = [] \n",
    "    for numero in lst_un:\n",
    "        if numero not in resultado:\n",
    "            resultado.append (numero)\n",
    "    return resultado\n",
    "#tu codigo aquí"
   ]
  },
  {
   "cell_type": "code",
   "execution_count": 52,
   "metadata": {},
   "outputs": [
    {
     "name": "stderr",
     "output_type": "stream",
     "text": [
      "....................................................................................................\n",
      "----------------------------------------------------------------------\n",
      "Ran 100 tests in 0.201s\n",
      "\n",
      "OK\n"
     ]
    }
   ],
   "source": [
    "# Para testear tu función \n",
    "test_unique(unique)"
   ]
  },
  {
   "cell_type": "markdown",
   "metadata": {},
   "source": [
    "## 8. Escribe una función que devuelva la moda de una lista, es decir: el elemento que aparece más veces.\n",
    "\n",
    "`NOTE: No se debe usar count... 🧐`"
   ]
  },
  {
   "cell_type": "code",
   "execution_count": 54,
   "metadata": {},
   "outputs": [],
   "source": [
    "def mode_counter(arr):\n",
    "    unicos = unique(arr)\n",
    "    frecuencia = [0 for x in unicos]\n",
    "    for y in arr: \n",
    "        frecuencia[unicos.index(y)] += 1\n",
    "    frecuencia_maxima = greatest(frecuencia)\n",
    "    return unicos[frecuencia.index(frecuencia_maxima)]\n",
    "#tu codigo aquí"
   ]
  },
  {
   "cell_type": "code",
   "execution_count": 56,
   "metadata": {},
   "outputs": [
    {
     "name": "stderr",
     "output_type": "stream",
     "text": [
      "....................................................................................................\n",
      "----------------------------------------------------------------------\n",
      "Ran 100 tests in 0.103s\n",
      "\n",
      "OK\n"
     ]
    }
   ],
   "source": [
    "# Para testear tu función \n",
    "test_mode(mode_counter)"
   ]
  },
  {
   "cell_type": "markdown",
   "metadata": {},
   "source": [
    "## 9. Escribe una función que calcule la desviación estándar de una lista.\n",
    "`NOTE: no utilices librerías ni ninguna función ya construida. 😉`"
   ]
  },
  {
   "cell_type": "code",
   "execution_count": 36,
   "metadata": {},
   "outputs": [],
   "source": [
    "def st_dev(list_sd):\n",
    "    # Paso 1: Calcular la media\n",
    "    n = len(list_sd)\n",
    "    media = sum(list_sd) / n\n",
    "\n",
    "    # Paso 2 y 3: Calcular la diferencia al cuadrado de cada número respecto a la media\n",
    "    diferencias_cuadradas = [(x - media) ** 2 for x in list_sd]\n",
    "\n",
    "    # Paso 4: Calcular la media de estas diferencias al cuadrado\n",
    "    varianza = sum(diferencias_cuadradas) / (n - 1)\n",
    "\n",
    "    # Paso 5: Tomar la raíz cuadrada de la varianza (desviación estándar)\n",
    "    desviacion_estandar = varianza ** 0.5\n",
    "\n",
    "    return desviacion_estandar\n",
    "#tu codigo aquí"
   ]
  },
  {
   "cell_type": "code",
   "execution_count": 38,
   "metadata": {},
   "outputs": [
    {
     "name": "stderr",
     "output_type": "stream",
     "text": [
      "....................................................................................................\n",
      "----------------------------------------------------------------------\n",
      "Ran 100 tests in 0.048s\n",
      "\n",
      "OK\n"
     ]
    }
   ],
   "source": [
    "# Para testear tu función\n",
    "test_stdev(st_dev)"
   ]
  },
  {
   "cell_type": "markdown",
   "metadata": {},
   "source": [
    "## 10. Escribe una función para verificar si una cadena es un pangrama, es decir: si contiene todas las letras del alfabeto al menos una vez. Ten en cuenta que las cadenas pueden contener caracteres que no son letras."
   ]
  },
  {
   "cell_type": "code",
   "execution_count": 48,
   "metadata": {},
   "outputs": [],
   "source": [
    "#tu codigo aquí\n",
    "import string\n",
    "\n",
    "def pangram(data):\n",
    " letters = string.ascii_lowercase\n",
    " dataUnif = data.lower()\n",
    " isPangram = True\n",
    " for letter in letters:\n",
    "    if letter not in dataUnif:\n",
    "        isPangram = False\n",
    " return isPangram"
   ]
  },
  {
   "cell_type": "code",
   "execution_count": 50,
   "metadata": {},
   "outputs": [
    {
     "name": "stderr",
     "output_type": "stream",
     "text": [
      "..............................\n",
      "----------------------------------------------------------------------\n",
      "Ran 30 tests in 0.015s\n",
      "\n",
      "OK\n"
     ]
    }
   ],
   "source": [
    "# Para testear tu función\n",
    "test_pangram(pangram)"
   ]
  },
  {
   "cell_type": "markdown",
   "metadata": {},
   "source": [
    "## 11. Escribe una función que reciba una cadena de palabras separadas por comas y devuelva una cadena de palabras separadas por comas ordenadas alfabéticamente.\n",
    "\n",
    "`NOTA: Puedes usar sorted pero no split y definitivamente no join! 🤪`"
   ]
  },
  {
   "cell_type": "code",
   "execution_count": 74,
   "metadata": {},
   "outputs": [],
   "source": [
    "def sort_alpha(cadena):\n",
    "    palabras = []\n",
    "    palabra_actual = ''\n",
    "    \n",
    "    for caracter in cadena:\n",
    "        if caracter == ',':\n",
    "            # Añadimos la palabra a la lista y reiniciamos la palabra actual\n",
    "            palabras.append(palabra_actual)\n",
    "            palabra_actual = ''\n",
    "        else:\n",
    "            # Continuamos construyendo la palabra actual\n",
    "            palabra_actual += caracter\n",
    "    \n",
    "    # Añadimos la última palabra (si no termina en coma)\n",
    "    if palabra_actual:\n",
    "        palabras.append(palabra_actual)\n",
    "    \n",
    "    # Ordenamos la lista de palabras\n",
    "    palabras_ordenadas = sorted(palabras)\n",
    "    \n",
    "    # Reconstruimos la cadena a partir de la lista ordenada\n",
    "    cadena_ordenada = ''\n",
    "    for i, palabra in enumerate(palabras_ordenadas):\n",
    "        if i > 0:\n",
    "            cadena_ordenada += ','\n",
    "        cadena_ordenada += palabra\n",
    "    \n",
    "    return cadena_ordenada"
   ]
  },
  {
   "cell_type": "code",
   "execution_count": 76,
   "metadata": {},
   "outputs": [
    {
     "name": "stderr",
     "output_type": "stream",
     "text": [
      "....................................................................................................\n",
      "----------------------------------------------------------------------\n",
      "Ran 100 tests in 0.043s\n",
      "\n",
      "OK\n"
     ]
    }
   ],
   "source": [
    "# Para testear tu función \n",
    "test_alpha(sort_alpha)"
   ]
  },
  {
   "cell_type": "markdown",
   "metadata": {},
   "source": [
    "## 12. Escribe una función para verificar si una contraseña dada es fuerte (al menos 8 caracteres, al menos una minúscula, al menos una mayúscula, al menos un número y al menos un carácter especial). Debería devolver True si es fuerte y False si no lo es."
   ]
  },
  {
   "cell_type": "code",
   "execution_count": 138,
   "metadata": {},
   "outputs": [],
   "source": [
    "#tu codigo aquí\n",
    "import re\n",
    "\n",
    "def check_pass (contrasena):\n",
    "    # Comprobar si la longitud es al menos 8\n",
    "    if len(contrasena) < 8:\n",
    "        return False\n",
    "    \n",
    "    # Regex para verificar cada uno de los requisitos\n",
    "    tiene_minúscula = re.search(r'[a-z]', contrasena)\n",
    "    tiene_mayúscula = re.search(r'[A-Z]', contrasena)\n",
    "    tiene_numero = re.search(r'\\d', contrasena)\n",
    "    tiene_caracter_especial = re.search(r'([#@!$%&()^*{}\\[\\]]+)', contrasena)\n",
    "\n",
    "    # Comprobar si todos los requisitos se cumplen\n",
    "    if tiene_minúscula and tiene_mayúscula and tiene_numero and tiene_caracter_especial:\n",
    "        return True\n",
    "    else:\n",
    "        return False\n",
    "\n",
    "# Ejemplo de uso"
   ]
  },
  {
   "cell_type": "code",
   "execution_count": 140,
   "metadata": {},
   "outputs": [
    {
     "name": "stderr",
     "output_type": "stream",
     "text": [
      "....................................................................................................\n",
      "----------------------------------------------------------------------\n",
      "Ran 100 tests in 0.043s\n",
      "\n",
      "OK\n"
     ]
    }
   ],
   "source": [
    "# Para testear tu función\n",
    "test_pass(check_pass)"
   ]
  }
 ],
 "metadata": {
  "kernelspec": {
   "display_name": "Python 3 (ipykernel)",
   "language": "python",
   "name": "python3"
  },
  "language_info": {
   "codemirror_mode": {
    "name": "ipython",
    "version": 3
   },
   "file_extension": ".py",
   "mimetype": "text/x-python",
   "name": "python",
   "nbconvert_exporter": "python",
   "pygments_lexer": "ipython3",
   "version": "3.10.14"
  },
  "vscode": {
   "interpreter": {
    "hash": "aee8b7b246df8f9039afb4144a1f6fd8d2ca17a180786b69acc140d282b71a49"
   }
  }
 },
 "nbformat": 4,
 "nbformat_minor": 4
}

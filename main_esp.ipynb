{
 "cells": [
  {
   "cell_type": "markdown",
   "metadata": {},
   "source": [
    "# Functions"
   ]
  },
  {
   "cell_type": "markdown",
   "metadata": {},
   "source": [
    "En este laboratorio pondremos en práctica algunos de los conceptos que hemos aprendido en los últimos días.\n",
    "\n",
    "`NOTA: En este laboratorio deberías intentar escribir todas las funciones por ti mismo utilizando solo la sintaxis más básica de Python y sin funciones como len, count, sum, max, min, in, etc. Dale una oportunidad. 🧑🏻‍💻👩🏻‍💻`\n",
    "\n",
    "La celda después de cada ejercicio contiene algunas pruebas para verificar si tu función funciona como se espera."
   ]
  },
  {
   "cell_type": "code",
   "execution_count": 1,
   "metadata": {},
   "outputs": [],
   "source": [
    "from mod.testing import *\n",
    "import unittest"
   ]
  },
  {
   "cell_type": "markdown",
   "metadata": {},
   "source": [
    "## 1. Escribe una función que devuelva el mayor de dos números"
   ]
  },
  {
   "cell_type": "code",
   "execution_count": 4,
   "metadata": {},
   "outputs": [],
   "source": [
    "#your code here#tu codigo aquí\n",
    "def greater(a,b):\n",
    "    \"\"\" Devuelve el mayor de los dos números.\n",
    "    tenemos a y b como argumentos.\n",
    "    y tenemos un Return del número mayor entre los dos.\n",
    "    \"\"\"\n",
    "    if a > b:\n",
    "        return a\n",
    "    if a < b:\n",
    "        return b\n",
    "#test_greater = greater(5,10)\n"
   ]
  },
  {
   "cell_type": "code",
   "execution_count": 6,
   "metadata": {},
   "outputs": [
    {
     "name": "stderr",
     "output_type": "stream",
     "text": [
      "....................................................................................................\n",
      "----------------------------------------------------------------------\n",
      "Ran 100 tests in 0.085s\n",
      "\n",
      "OK\n"
     ]
    }
   ],
   "source": [
    "# Para testear tu función\n",
    "test_greater(greater)"
   ]
  },
  {
   "cell_type": "markdown",
   "metadata": {},
   "source": [
    "## 2. Ahora escribe una función que devuelva el elemento más"
   ]
  },
  {
   "cell_type": "code",
   "execution_count": 8,
   "metadata": {},
   "outputs": [],
   "source": [
    "#tu codigo aquí\n",
    "def greatest(numbers):\n",
    "    \"\"\"Encontrar el número más grande de una lista.\n",
    "    · numbers: una lista de números\n",
    "    · Tenemos return del más grande de la lista.\n",
    "    \"\"\"\n",
    "    max_number = 0\n",
    "    for number in numbers:\n",
    "        if number > max_number:\n",
    "            max_number = number\n",
    "    return max_number"
   ]
  },
  {
   "cell_type": "code",
   "execution_count": 9,
   "metadata": {},
   "outputs": [
    {
     "name": "stderr",
     "output_type": "stream",
     "text": [
      "....................................................................................................\n",
      "----------------------------------------------------------------------\n",
      "Ran 100 tests in 0.085s\n",
      "\n",
      "OK\n"
     ]
    }
   ],
   "source": [
    "# Para testear tu función\n",
    "test_greatest(greatest)"
   ]
  },
  {
   "cell_type": "markdown",
   "metadata": {},
   "source": [
    "## 3. Escribe una función que sume todos los elementos de una lista"
   ]
  },
  {
   "cell_type": "code",
   "execution_count": 11,
   "metadata": {},
   "outputs": [
    {
     "name": "stdout",
     "output_type": "stream",
     "text": [
      "34\n"
     ]
    }
   ],
   "source": [
    "def sum_all(lst):\n",
    "    \"\"\" Sumamos todos los elementos de una lista.\n",
    "    · lst: lista de números\n",
    "    · Tenemos un return de la suma de los elementos de la lista\n",
    "    \"\"\"\n",
    "    total = 0\n",
    "    for num in lst:\n",
    "        total += num\n",
    "    return total\n",
    "#tu codigo aquí\n",
    "lista = [1,2,4,7,8,12]\n",
    "result = sum_all(lista)\n",
    "print(result)"
   ]
  },
  {
   "cell_type": "code",
   "execution_count": 12,
   "metadata": {
    "scrolled": true
   },
   "outputs": [
    {
     "name": "stderr",
     "output_type": "stream",
     "text": [
      "....................................................................................................\n",
      "----------------------------------------------------------------------\n",
      "Ran 100 tests in 0.073s\n",
      "\n",
      "OK\n"
     ]
    }
   ],
   "source": [
    "# Para testear tu función\n",
    "test_sum(sum_all)"
   ]
  },
  {
   "cell_type": "markdown",
   "metadata": {},
   "source": [
    "## 4. Escribe otra función que multiplique todos los elementos de una lista"
   ]
  },
  {
   "cell_type": "code",
   "execution_count": 26,
   "metadata": {},
   "outputs": [
    {
     "name": "stdout",
     "output_type": "stream",
     "text": [
      "5376\n"
     ]
    }
   ],
   "source": [
    "def mult_all(lst):\n",
    "    \"\"\"Multiplica todos los elementos de una lista.\n",
    "   · lst: Una lista de números.\n",
    "   · Tenemos un return del producto(multiplicación) de todos los elementos de la lista\n",
    "   \"\"\" \n",
    "    product = 1 \n",
    "    for numb in lst:\n",
    "        product *= numb\n",
    "    return product\n",
    "\n",
    "#tu codigo aquí\n",
    "lista1 = [1,2,4,7,8,12]\n",
    "res = mult_all(lista1)\n",
    "print(res)"
   ]
  },
  {
   "cell_type": "code",
   "execution_count": 28,
   "metadata": {
    "scrolled": true
   },
   "outputs": [
    {
     "name": "stderr",
     "output_type": "stream",
     "text": [
      "....................................................................................................\n",
      "----------------------------------------------------------------------\n",
      "Ran 100 tests in 0.080s\n",
      "\n",
      "OK\n"
     ]
    }
   ],
   "source": [
    "# Para testear tu función\n",
    "test_mult(mult_all)"
   ]
  },
  {
   "cell_type": "markdown",
   "metadata": {},
   "source": [
    "## 5. Ahora combina esas dos ideas y escribe una función que reciba una lista y ya sea \"+\" o \"*\", y produzca el resultado acorde"
   ]
  },
  {
   "cell_type": "code",
   "execution_count": 30,
   "metadata": {},
   "outputs": [
    {
     "name": "stdout",
     "output_type": "stream",
     "text": [
      "5376\n",
      "34\n"
     ]
    }
   ],
   "source": [
    "def oper_all(arr, oper = \"*\"):\n",
    "    \"\"\"Hacemos una operación sobre todos los elementos de la lista\n",
    "    · arr siendo lista de números.\n",
    "    · oper siendo la operación a realizar. Puede ser tanto multiplicación como suma. \n",
    "            Si no es especificado, se hará multiplicación por default.\n",
    "    · Tenemos un return del resultado de la operación sobre los elementos de la lista.\n",
    "    \"\"\"\n",
    "    end_res = 1 if oper == \"*\" else 0\n",
    "    for number in arr:\n",
    "        if oper == \"*\":\n",
    "            end_res *= number\n",
    "        else:\n",
    "            end_res += number\n",
    "    return end_res\n",
    "    \n",
    "#tu codigo aquí\n",
    "lista2 = [1,2,4,7,8,12]\n",
    "\n",
    "mult_result = oper_all(lista2)\n",
    "print(mult_result)\n",
    "\n",
    "sum_result = oper_all(lista2, \"+\")\n",
    "print(sum_result)"
   ]
  },
  {
   "cell_type": "code",
   "execution_count": 32,
   "metadata": {},
   "outputs": [
    {
     "name": "stderr",
     "output_type": "stream",
     "text": [
      "....................................................................................................\n",
      "----------------------------------------------------------------------\n",
      "Ran 100 tests in 0.089s\n",
      "\n",
      "OK\n"
     ]
    }
   ],
   "source": [
    "# Para testear tu función\n",
    "test_operations(oper_all)"
   ]
  },
  {
   "cell_type": "markdown",
   "metadata": {},
   "source": [
    "## 6. Escribe una función que devuelva el factorial de un número."
   ]
  },
  {
   "cell_type": "code",
   "execution_count": 34,
   "metadata": {},
   "outputs": [
    {
     "name": "stdout",
     "output_type": "stream",
     "text": [
      "40320\n"
     ]
    }
   ],
   "source": [
    "def factorial(n):\n",
    "    \"\"\"Se calcula el factorial de un solo número.\n",
    "    · la n es para un número enter NO negativo.\n",
    "    · Tenemos un return del factorial de n.\n",
    "    \"\"\"\n",
    "    if n == 0:\n",
    "        return 1\n",
    "    else:\n",
    "        return n*factorial(n-1)\n",
    "#tu codigo aquí\n",
    "number = 8\n",
    "res = factorial(number)\n",
    "print(res)"
   ]
  },
  {
   "cell_type": "code",
   "execution_count": null,
   "metadata": {},
   "outputs": [],
   "source": [
    "# Fórmula factorial\n",
    "# n! = n * (n - 1) *...*1\n",
    "\n",
    "# Este código define una función llamada \"factorial\" que toma una entrada \"n\". La función utiliza un bucle for para iterar a través del rango de números\n",
    "# desde 1 hasta n+1. Para cada número en ese rango, multiplica el valor actual de x por el número en el rango. Al final del bucle,\n",
    "# la función devuelve el valor final de x, que será el factorial del número de entrada \"n\".\n",
    "\n",
    "# El factorial de un entero positivo n es el producto de todos los enteros positivos menores o iguales a n.\n",
    "# Por ejemplo, el factorial de 6 (escrito \"6!\") es 6 * 5 * 4 * 3 * 2 * 1 = 720.\n",
    "\n",
    "# Así que esta función toma una entrada de cualquier entero positivo y devuelve el factorial de ese número."
   ]
  },
  {
   "cell_type": "code",
   "execution_count": 36,
   "metadata": {},
   "outputs": [
    {
     "name": "stderr",
     "output_type": "stream",
     "text": [
      "....................................................................................................\n",
      "----------------------------------------------------------------------\n",
      "Ran 100 tests in 0.091s\n",
      "\n",
      "OK\n"
     ]
    }
   ],
   "source": [
    "# This will test your function \n",
    "test_factorial(factorial)"
   ]
  },
  {
   "cell_type": "markdown",
   "metadata": {},
   "source": [
    "## 7. Escribe una función que tome una lista y devuelva una lista de los valores únicos.\n",
    "\n",
    "`NOTE: No podemos usar set. 🤔`"
   ]
  },
  {
   "cell_type": "code",
   "execution_count": 38,
   "metadata": {},
   "outputs": [
    {
     "name": "stdout",
     "output_type": "stream",
     "text": [
      "[8, 1, 2, 12, 4, 7]\n"
     ]
    }
   ],
   "source": [
    "def unique(lst_un):\n",
    "    \"\"\"Encontramos valores únicos de una lista con el orden original.\n",
    "    · lst_un es una lista de keys.\n",
    "    · Tenemos un return de una lista nueva con los valores únicos de la original.\n",
    "    \"\"\"\n",
    "    unica = []\n",
    "    for key in lst_un:\n",
    "        if key not in unica:\n",
    "            unica.append(key)\n",
    "    return unica\n",
    "#tu codigo aquí\n",
    "lista_unique = [8,1,2,12,4,2,7,8,12]\n",
    "res = unique(lista_unique)\n",
    "print(res)"
   ]
  },
  {
   "cell_type": "code",
   "execution_count": 40,
   "metadata": {},
   "outputs": [
    {
     "name": "stderr",
     "output_type": "stream",
     "text": [
      "....................................................................................................\n",
      "----------------------------------------------------------------------\n",
      "Ran 100 tests in 0.146s\n",
      "\n",
      "OK\n"
     ]
    }
   ],
   "source": [
    "# Para testear tu función \n",
    "test_unique(unique)"
   ]
  },
  {
   "cell_type": "markdown",
   "metadata": {},
   "source": [
    "## 8. Escribe una función que devuelva la moda de una lista, es decir: el elemento que aparece más veces.\n",
    "\n",
    "`NOTE: No se debe usar count... 🧐`"
   ]
  },
  {
   "cell_type": "code",
   "execution_count": 42,
   "metadata": {},
   "outputs": [
    {
     "name": "stdout",
     "output_type": "stream",
     "text": [
      "1\n"
     ]
    }
   ],
   "source": [
    "def mode_counter(arr : list) -> int:\n",
    "    \"\"\"Se calcula la moda de una lista, es decir el primer número que se repite más veces en una lista.\n",
    "    · En arr tenemos una lista con elementos duplicados.\n",
    "    · Tenemos un return del primer elemento duplicado de la lista.\n",
    "    \"\"\"\n",
    "    contador = {}\n",
    "    for key in arr:\n",
    "        if key in contador:\n",
    "            contador[key] += 1\n",
    "        else:\n",
    "            contador[key] = 1\n",
    "    \n",
    "    moda = max(contador, key=contador.get)\n",
    "   \n",
    "    return moda\n",
    "#tu codigo aquí\n",
    "lista_modal = [1,2,3,2,1,4,5,5,6]\n",
    "res1 = mode_counter(lista_modal)\n",
    "print(res1)"
   ]
  },
  {
   "cell_type": "code",
   "execution_count": 44,
   "metadata": {},
   "outputs": [
    {
     "name": "stderr",
     "output_type": "stream",
     "text": [
      "....................................................................................................\n",
      "----------------------------------------------------------------------\n",
      "Ran 100 tests in 0.088s\n",
      "\n",
      "OK\n"
     ]
    }
   ],
   "source": [
    "# Para testear tu función \n",
    "test_mode(mode_counter)"
   ]
  },
  {
   "cell_type": "markdown",
   "metadata": {},
   "source": [
    "## 9. Escribe una función que calcule la desviación estándar de una lista.\n",
    "`NOTE: no utilices librerías ni ninguna función ya construida. 😉`"
   ]
  },
  {
   "cell_type": "code",
   "execution_count": 74,
   "metadata": {},
   "outputs": [
    {
     "name": "stdout",
     "output_type": "stream",
     "text": [
      "1.9044561231490738\n"
     ]
    }
   ],
   "source": [
    "def st_dev(list_sd):\n",
    "    \n",
    "    \"\"\"Calcula la desviación estándar en una lista ya dada.\n",
    "    · list_sd: es una lista de números.\n",
    "    · Tenemos un return de la desviación estándar de la lista.\n",
    "    \"\"\"\n",
    "    \n",
    "    total = len(list_sd) - 1\n",
    "    promedio = sum(list_sd) / total\n",
    "\n",
    "    variación = sum((x-promedio)**2 for x in list_sd) / total\n",
    "    \n",
    "    lstdev = variación ** 0.5\n",
    "    \n",
    "    return lstdev\n",
    "    \n",
    "#tu codigo aquí\n",
    "lista_var = [1,2,3,2,1,4,5,5,6]\n",
    "res = st_dev(lista_var)\n",
    "print(res)"
   ]
  },
  {
   "cell_type": "code",
   "execution_count": 76,
   "metadata": {},
   "outputs": [
    {
     "name": "stderr",
     "output_type": "stream",
     "text": [
      "....................................................................................................\n",
      "----------------------------------------------------------------------\n",
      "Ran 100 tests in 0.095s\n",
      "\n",
      "OK\n"
     ]
    }
   ],
   "source": [
    "# Para testear tu función\n",
    "test_stdev(st_dev)"
   ]
  },
  {
   "cell_type": "markdown",
   "metadata": {},
   "source": [
    "## 10. Escribe una función para verificar si una cadena es un pangrama, es decir: si contiene todas las letras del alfabeto al menos una vez. Ten en cuenta que las cadenas pueden contener caracteres que no son letras."
   ]
  },
  {
   "cell_type": "code",
   "execution_count": 52,
   "metadata": {},
   "outputs": [],
   "source": [
    "import string \n",
    "\"\"\"Comprobamos que una string sea un pangrama (frase que contiene todas las letras del abecedario).\n",
    "· data será el input string que tengamos.\n",
    "· Tenemos un return de True si el string es un pangrama, o False si no lo es.\n",
    "\"\"\"\n",
    "\n",
    "def pangram(data):\n",
    "    letters = string.ascii_lowercase\n",
    "    dataUnif = data.lower()\n",
    "    isPangram = True\n",
    "    for letter in letters:\n",
    "        if letter not in dataUnif:\n",
    "            isPangram = False\n",
    "    return isPangram"
   ]
  },
  {
   "cell_type": "code",
   "execution_count": 54,
   "metadata": {},
   "outputs": [
    {
     "name": "stderr",
     "output_type": "stream",
     "text": [
      "..............................\n",
      "----------------------------------------------------------------------\n",
      "Ran 30 tests in 0.026s\n",
      "\n",
      "OK\n"
     ]
    }
   ],
   "source": [
    "# Para testear tu función\n",
    "test_pangram(pangram)"
   ]
  },
  {
   "cell_type": "markdown",
   "metadata": {},
   "source": [
    "## 11. Escribe una función que reciba una cadena de palabras separadas por comas y devuelva una cadena de palabras separadas por comas ordenadas alfabéticamente.\n",
    "\n",
    "`NOTA: Puedes usar sorted pero no split y definitivamente no join! 🤪`"
   ]
  },
  {
   "cell_type": "code",
   "execution_count": 7,
   "metadata": {},
   "outputs": [
    {
     "data": {
      "text/plain": [
       "' bicicleta, motocicleta, patinete,coche'"
      ]
     },
     "execution_count": 7,
     "metadata": {},
     "output_type": "execute_result"
    }
   ],
   "source": [
    "def sort_alpha(string):\n",
    "    words = []\n",
    "    word = \"\"\n",
    "    \n",
    "    for character in string:\n",
    "        if character == \",\":\n",
    "            words.append(word)\n",
    "            word = \"\"\n",
    "        else:\n",
    "            word += character\n",
    "    #Añadir última palabra si no termina en coma        \n",
    "    if word:\n",
    "        words.append(word)\n",
    "    \n",
    "    sorted_words = words.sort()\n",
    "    \n",
    "    #Construir la lista resultante\n",
    "    result = words[0]\n",
    "    for palabra in words[1:]:\n",
    "        result += \",\" + palabra\n",
    "       \n",
    "\n",
    "    return result\n",
    "    \n",
    "cadena = \"coche, motocicleta, bicicleta, patinete\"\n",
    "sort_alpha(cadena)"
   ]
  },
  {
   "cell_type": "code",
   "execution_count": 9,
   "metadata": {},
   "outputs": [
    {
     "name": "stderr",
     "output_type": "stream",
     "text": [
      "....................................................................................................\n",
      "----------------------------------------------------------------------\n",
      "Ran 100 tests in 0.109s\n",
      "\n",
      "OK\n"
     ]
    }
   ],
   "source": [
    "# Para testear tu función \n",
    "test_alpha(sort_alpha)"
   ]
  },
  {
   "cell_type": "markdown",
   "metadata": {},
   "source": [
    "## 12. Escribe una función para verificar si una contraseña dada es fuerte (al menos 8 caracteres, al menos una minúscula, al menos una mayúscula, al menos un número y al menos un carácter especial). Debería devolver True si es fuerte y False si no lo es."
   ]
  },
  {
   "cell_type": "code",
   "execution_count": 11,
   "metadata": {},
   "outputs": [
    {
     "name": "stdout",
     "output_type": "stream",
     "text": [
      "Strong\n"
     ]
    },
    {
     "data": {
      "text/plain": [
       "True"
      ]
     },
     "execution_count": 11,
     "metadata": {},
     "output_type": "execute_result"
    }
   ],
   "source": [
    "import string\n",
    "def check_pass(password):\n",
    "#tu codigo aquí\n",
    "    \"\"\"Comprobamos que una contraseña cumple con unos criterios de seguridad.\n",
    "    · password es la contraseña para hacer el check.\n",
    "    · Tenemos un return de True si la contraseña es fuerte y False si no.\n",
    "    \"\"\"\n",
    "    low_w = set(string.ascii_lowercase)\n",
    "    upp_w = set(string.ascii_uppercase)\n",
    "    numbers = set(string.digits)\n",
    "    special_char = set(string.punctuation)\n",
    "\n",
    "    lowercase = False\n",
    "    uppercase = False\n",
    "    numbers_in = False\n",
    "    special = False\n",
    "\n",
    "    for character in password:\n",
    "        if character in low_w:\n",
    "            lowercase = True\n",
    "        elif character in upp_w:\n",
    "            uppercase = True\n",
    "        elif character in numbers:\n",
    "            numbers_in = True\n",
    "        elif character in special_char:\n",
    "            special = True\n",
    "    return len(password) >= 8 and lowercase and uppercase and numbers_in and special\n",
    "\n",
    "password = \"MyPassword!1997\"\n",
    "if check_pass(password):\n",
    "    print(\"Strong\")\n",
    "else:\n",
    "    print(\"Weak\")\n",
    "\n",
    "check_pass(password)"
   ]
  },
  {
   "cell_type": "code",
   "execution_count": 13,
   "metadata": {},
   "outputs": [
    {
     "name": "stderr",
     "output_type": "stream",
     "text": [
      "....................................................................................................\n",
      "----------------------------------------------------------------------\n",
      "Ran 100 tests in 0.130s\n",
      "\n",
      "OK\n"
     ]
    }
   ],
   "source": [
    "# Para testear tu función\n",
    "test_pass(check_pass)"
   ]
  }
 ],
 "metadata": {
  "kernelspec": {
   "display_name": "Python 3 (ipykernel)",
   "language": "python",
   "name": "python3"
  },
  "language_info": {
   "codemirror_mode": {
    "name": "ipython",
    "version": 3
   },
   "file_extension": ".py",
   "mimetype": "text/x-python",
   "name": "python",
   "nbconvert_exporter": "python",
   "pygments_lexer": "ipython3",
   "version": "3.10.14"
  },
  "vscode": {
   "interpreter": {
    "hash": "aee8b7b246df8f9039afb4144a1f6fd8d2ca17a180786b69acc140d282b71a49"
   }
  }
 },
 "nbformat": 4,
 "nbformat_minor": 4
}

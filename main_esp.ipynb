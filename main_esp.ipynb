{
 "cells": [
  {
   "cell_type": "markdown",
   "metadata": {},
   "source": [
    "# Functions"
   ]
  },
  {
   "cell_type": "markdown",
   "metadata": {},
   "source": [
    "En este laboratorio pondremos en práctica algunos de los conceptos que hemos aprendido en los últimos días.\n",
    "\n",
    "`NOTA: En este laboratorio deberías intentar escribir todas las funciones por ti mismo utilizando solo la sintaxis más básica de Python y sin funciones como len, count, sum, max, min, in, etc. Dale una oportunidad. 🧑🏻‍💻👩🏻‍💻`\n",
    "\n",
    "La celda después de cada ejercicio contiene algunas pruebas para verificar si tu función funciona como se espera."
   ]
  },
  {
   "cell_type": "code",
   "execution_count": 72,
   "metadata": {},
   "outputs": [],
   "source": [
    "from mod.testing import *\n",
    "import unittest"
   ]
  },
  {
   "cell_type": "markdown",
   "metadata": {},
   "source": [
    "## 1. Escribe una función que devuelva el mayor de dos números"
   ]
  },
  {
   "cell_type": "code",
   "execution_count": 43,
   "metadata": {},
   "outputs": [
    {
     "name": "stdout",
     "output_type": "stream",
     "text": [
      "2\n"
     ]
    }
   ],
   "source": [
    "def greater(a,b):\n",
    "    if a>b:\n",
    "        return a\n",
    "    if a<b:\n",
    "        return b\n",
    "\n",
    "    else:\n",
    "        return \"Son iguales\"\n",
    "\n",
    "print(greater(1,2))\n"
   ]
  },
  {
   "cell_type": "code",
   "execution_count": 13,
   "metadata": {},
   "outputs": [
    {
     "name": "stderr",
     "output_type": "stream",
     "text": [
      "....................................................................................................\n",
      "----------------------------------------------------------------------\n",
      "Ran 100 tests in 0.035s\n",
      "\n",
      "OK\n"
     ]
    }
   ],
   "source": [
    "# Para testear tu función\n",
    "test_greater(greater)"
   ]
  },
  {
   "cell_type": "markdown",
   "metadata": {},
   "source": [
    "## 2. Ahora escribe una función que devuelva el elemento más"
   ]
  },
  {
   "cell_type": "code",
   "execution_count": 45,
   "metadata": {},
   "outputs": [
    {
     "name": "stdout",
     "output_type": "stream",
     "text": [
      "86\n"
     ]
    }
   ],
   "source": [
    "a = [random.randint(0,100) for i in range(10)]\n",
    "\n",
    "def greatest (a):\n",
    "    greatest_num = a[0]\n",
    "    for i in a: \n",
    "        if i > greatest_num:\n",
    "            greatest_num = i\n",
    "\n",
    "    return greatest_num\n",
    "\n",
    "print(greatest(a))\n",
    "            "
   ]
  },
  {
   "cell_type": "code",
   "execution_count": 31,
   "metadata": {},
   "outputs": [
    {
     "name": "stderr",
     "output_type": "stream",
     "text": [
      "....................................................................................................\n",
      "----------------------------------------------------------------------\n",
      "Ran 100 tests in 0.039s\n",
      "\n",
      "OK\n"
     ]
    }
   ],
   "source": [
    "# Para testear tu función\n",
    "test_greatest(greatest)"
   ]
  },
  {
   "cell_type": "markdown",
   "metadata": {},
   "source": [
    "## 3. Escribe una función que sume todos los elementos de una lista"
   ]
  },
  {
   "cell_type": "code",
   "execution_count": 47,
   "metadata": {},
   "outputs": [
    {
     "name": "stdout",
     "output_type": "stream",
     "text": [
      "340\n"
     ]
    }
   ],
   "source": [
    "a = [random.randint(0,100) for i in range(10)]\n",
    "\n",
    "def sum_all(a):\n",
    "    sum_num = 0\n",
    "    for i in a:\n",
    "        sum_num += i\n",
    "\n",
    "    return sum_num\n",
    "\n",
    "print(sum_all(a))"
   ]
  },
  {
   "cell_type": "code",
   "execution_count": 39,
   "metadata": {
    "scrolled": true
   },
   "outputs": [
    {
     "name": "stderr",
     "output_type": "stream",
     "text": [
      "....................................................................................................\n",
      "----------------------------------------------------------------------\n",
      "Ran 100 tests in 0.049s\n",
      "\n",
      "OK\n"
     ]
    }
   ],
   "source": [
    "# Para testear tu función\n",
    "test_sum(sum_all)"
   ]
  },
  {
   "cell_type": "markdown",
   "metadata": {},
   "source": [
    "## 4. Escribe otra función que multiplique todos los elementos de una lista"
   ]
  },
  {
   "cell_type": "code",
   "execution_count": 10,
   "metadata": {},
   "outputs": [
    {
     "name": "stdout",
     "output_type": "stream",
     "text": [
      "133959367643643360\n"
     ]
    }
   ],
   "source": [
    "a = [random.randint(0,100) for i in range(10)]\n",
    "\n",
    "def mult_all(a):\n",
    "    mult_num = 1\n",
    "    for i in a:\n",
    "        mult_num *= i\n",
    "\n",
    "    return mult_num\n",
    "\n",
    "print(mult_all(a))\n"
   ]
  },
  {
   "cell_type": "code",
   "execution_count": 63,
   "metadata": {
    "scrolled": true
   },
   "outputs": [
    {
     "name": "stderr",
     "output_type": "stream",
     "text": [
      "....................................................................................................\n",
      "----------------------------------------------------------------------\n",
      "Ran 100 tests in 0.135s\n",
      "\n",
      "OK\n"
     ]
    }
   ],
   "source": [
    "# Para testear tu función\n",
    "test_mult(mult_all)"
   ]
  },
  {
   "cell_type": "markdown",
   "metadata": {},
   "source": [
    "## 5. Ahora combina esas dos ideas y escribe una función que reciba una lista y ya sea \"+\" o \"*\", y produzca el resultado acorde"
   ]
  },
  {
   "cell_type": "code",
   "execution_count": 17,
   "metadata": {},
   "outputs": [
    {
     "name": "stdout",
     "output_type": "stream",
     "text": [
      "24\n"
     ]
    }
   ],
   "source": [
    "arr = [1,2,3,4]\n",
    "\n",
    "def oper_all(arr, oper = \"*\"):\n",
    "    if oper == \"*\":\n",
    "        result = 1\n",
    "        for i in arr:\n",
    "            result *= i\n",
    "    if oper == \"+\":\n",
    "        result = 0\n",
    "        for i in arr:\n",
    "            result += i\n",
    "        \n",
    "    return result\n",
    "\n",
    "print(oper_all(arr))"
   ]
  },
  {
   "cell_type": "code",
   "execution_count": 19,
   "metadata": {},
   "outputs": [
    {
     "name": "stderr",
     "output_type": "stream",
     "text": [
      "....................................................................................................\n",
      "----------------------------------------------------------------------\n",
      "Ran 100 tests in 0.027s\n",
      "\n",
      "OK\n"
     ]
    }
   ],
   "source": [
    "# Para testear tu función\n",
    "test_operations(oper_all)"
   ]
  },
  {
   "cell_type": "markdown",
   "metadata": {},
   "source": [
    "## 6. Escribe una función que devuelva el factorial de un número."
   ]
  },
  {
   "cell_type": "code",
   "execution_count": 41,
   "metadata": {},
   "outputs": [
    {
     "name": "stdout",
     "output_type": "stream",
     "text": [
      "720\n"
     ]
    }
   ],
   "source": [
    "def factorial(n):\n",
    "    if n > 0:\n",
    "        result = 1\n",
    "        for i in range(1,n+1):\n",
    "            result *= i\n",
    "        \n",
    "        return result  \n",
    "    \n",
    "    if n <= 0:\n",
    "        return \"Introduce numero positivo\"\n",
    "    \n",
    "    \n",
    "print(factorial(6))\n",
    "        "
   ]
  },
  {
   "cell_type": "code",
   "execution_count": 1,
   "metadata": {},
   "outputs": [],
   "source": [
    "# Fórmula factorial\n",
    "# n! = n * (n - 1) *...*1\n",
    "\n",
    "# Este código define una función llamada \"factorial\" que toma una entrada \"n\". La función utiliza un bucle for para iterar a través del rango de números\n",
    "# desde 1 hasta n+1. Para cada número en ese rango, multiplica el valor actual de x por el número en el rango. Al final del bucle,\n",
    "# la función devuelve el valor final de x, que será el factorial del número de entrada \"n\".\n",
    "\n",
    "# El factorial de un entero positivo n es el producto de todos los enteros positivos menores o iguales a n.\n",
    "# Por ejemplo, el factorial de 6 (escrito \"6!\") es 6 * 5 * 4 * 3 * 2 * 1 = 720.\n",
    "\n",
    "# Así que esta función toma una entrada de cualquier entero positivo y devuelve el factorial de ese número."
   ]
  },
  {
   "cell_type": "code",
   "execution_count": 43,
   "metadata": {},
   "outputs": [
    {
     "name": "stderr",
     "output_type": "stream",
     "text": [
      "....................................................................................................\n",
      "----------------------------------------------------------------------\n",
      "Ran 100 tests in 0.041s\n",
      "\n",
      "OK\n"
     ]
    }
   ],
   "source": [
    "# This will test your function \n",
    "test_factorial(factorial"
   ]
  },
  {
   "cell_type": "markdown",
   "metadata": {},
   "source": [
    "## 7. Escribe una función que tome una lista y devuelva una lista de los valores únicos.\n",
    "\n",
    "`NOTE: No podemos usar set. 🤔`"
   ]
  },
  {
   "cell_type": "code",
   "execution_count": 45,
   "metadata": {},
   "outputs": [
    {
     "name": "stdout",
     "output_type": "stream",
     "text": [
      "[1, 2, 3, 4, 5, 6]\n"
     ]
    }
   ],
   "source": [
    "lst_un = [1,1,2,3,4,4,5,6]\n",
    "\n",
    "def unique(lst_un):\n",
    "    list_unique = []\n",
    "\n",
    "    for i in lst_un:\n",
    "        if i not in list_unique:\n",
    "            list_unique.append(i)\n",
    "\n",
    "    return list_unique\n",
    "\n",
    "print(unique(lst_un))\n",
    "            "
   ]
  },
  {
   "cell_type": "code",
   "execution_count": 47,
   "metadata": {},
   "outputs": [
    {
     "name": "stderr",
     "output_type": "stream",
     "text": [
      "....................................................................................................\n",
      "----------------------------------------------------------------------\n",
      "Ran 100 tests in 0.078s\n",
      "\n",
      "OK\n"
     ]
    }
   ],
   "source": [
    "# Para testear tu función \n",
    "test_unique(unique)"
   ]
  },
  {
   "cell_type": "markdown",
   "metadata": {},
   "source": [
    "## 8. Escribe una función que devuelva la moda de una lista, es decir: el elemento que aparece más veces.\n",
    "\n",
    "`NOTE: No se debe usar count... 🧐`"
   ]
  },
  {
   "cell_type": "code",
   "execution_count": 113,
   "metadata": {},
   "outputs": [
    {
     "name": "stdout",
     "output_type": "stream",
     "text": [
      "El máximo de repeticiones es 3 y corresponde a [4]\n"
     ]
    }
   ],
   "source": [
    "a = [1,1,2,3,4,4,4,5,6]\n",
    "\n",
    "def contar(datos):\n",
    "  result = {}\n",
    "  for dato in datos:\n",
    "    if dato not in result:\n",
    "      result[dato] = 0   \n",
    "    result[dato] += 1    \n",
    "  return result \n",
    "\n",
    "cuenta = contar(a)\n",
    "\n",
    "dic_inverso = {}\n",
    "for dato, repeticiones in cuenta.items():\n",
    "  if repeticiones not in dic_inverso:\n",
    "    dic_inverso[repeticiones] = []\n",
    "  dic_inverso[repeticiones].append(dato)\n",
    "\n",
    "max_rep = max(dic_inverso)\n",
    "print(f\"El máximo de repeticiones es {max_rep} y corresponde a {dic_inverso[max_rep]}\")\n",
    "         "
   ]
  },
  {
   "cell_type": "code",
   "execution_count": 109,
   "metadata": {},
   "outputs": [
    {
     "name": "stderr",
     "output_type": "stream",
     "text": [
      "FFFFFFFFFFFFFFFFFFFFFFFFFFFFFFFFFFFFFFFFFFFFFFFFFFFFFFFFFFFFFFFFFFFFFFFFFFFFFFFFFFFFFFFFFFFFFFFFFFFF\n",
      "======================================================================\n",
      "FAIL: runTest (mod.testing.test_mode.<locals>.TestKnown.runTest)\n",
      "----------------------------------------------------------------------\n",
      "Traceback (most recent call last):\n",
      "  File \"/Users/cristina/Desktop/Learn/Ironhack/Labs/lab-functions-es/mod/testing.py\", line 127, in runTest\n",
      "    self.assertEqual(fn(self.input), self.output, f\"Should be {self.output}\")\n",
      "AssertionError: {13: 1} != 7 : Should be 7\n",
      "\n",
      "======================================================================\n",
      "FAIL: runTest (mod.testing.test_mode.<locals>.TestKnown.runTest)\n",
      "----------------------------------------------------------------------\n",
      "Traceback (most recent call last):\n",
      "  File \"/Users/cristina/Desktop/Learn/Ironhack/Labs/lab-functions-es/mod/testing.py\", line 127, in runTest\n",
      "    self.assertEqual(fn(self.input), self.output, f\"Should be {self.output}\")\n",
      "AssertionError: {21: 1} != 5 : Should be 5\n",
      "\n",
      "======================================================================\n",
      "FAIL: runTest (mod.testing.test_mode.<locals>.TestKnown.runTest)\n",
      "----------------------------------------------------------------------\n",
      "Traceback (most recent call last):\n",
      "  File \"/Users/cristina/Desktop/Learn/Ironhack/Labs/lab-functions-es/mod/testing.py\", line 127, in runTest\n",
      "    self.assertEqual(fn(self.input), self.output, f\"Should be {self.output}\")\n",
      "AssertionError: {2: 1} != 1 : Should be 1\n",
      "\n",
      "======================================================================\n",
      "FAIL: runTest (mod.testing.test_mode.<locals>.TestKnown.runTest)\n",
      "----------------------------------------------------------------------\n",
      "Traceback (most recent call last):\n",
      "  File \"/Users/cristina/Desktop/Learn/Ironhack/Labs/lab-functions-es/mod/testing.py\", line 127, in runTest\n",
      "    self.assertEqual(fn(self.input), self.output, f\"Should be {self.output}\")\n",
      "AssertionError: {17: 1} != 23 : Should be 23\n",
      "\n",
      "======================================================================\n",
      "FAIL: runTest (mod.testing.test_mode.<locals>.TestKnown.runTest)\n",
      "----------------------------------------------------------------------\n",
      "Traceback (most recent call last):\n",
      "  File \"/Users/cristina/Desktop/Learn/Ironhack/Labs/lab-functions-es/mod/testing.py\", line 127, in runTest\n",
      "    self.assertEqual(fn(self.input), self.output, f\"Should be {self.output}\")\n",
      "AssertionError: {21: 1} != 16 : Should be 16\n",
      "\n",
      "======================================================================\n",
      "FAIL: runTest (mod.testing.test_mode.<locals>.TestKnown.runTest)\n",
      "----------------------------------------------------------------------\n",
      "Traceback (most recent call last):\n",
      "  File \"/Users/cristina/Desktop/Learn/Ironhack/Labs/lab-functions-es/mod/testing.py\", line 127, in runTest\n",
      "    self.assertEqual(fn(self.input), self.output, f\"Should be {self.output}\")\n",
      "AssertionError: {13: 1} != 11 : Should be 11\n",
      "\n",
      "======================================================================\n",
      "FAIL: runTest (mod.testing.test_mode.<locals>.TestKnown.runTest)\n",
      "----------------------------------------------------------------------\n",
      "Traceback (most recent call last):\n",
      "  File \"/Users/cristina/Desktop/Learn/Ironhack/Labs/lab-functions-es/mod/testing.py\", line 127, in runTest\n",
      "    self.assertEqual(fn(self.input), self.output, f\"Should be {self.output}\")\n",
      "AssertionError: {3: 1} != 24 : Should be 24\n",
      "\n",
      "======================================================================\n",
      "FAIL: runTest (mod.testing.test_mode.<locals>.TestKnown.runTest)\n",
      "----------------------------------------------------------------------\n",
      "Traceback (most recent call last):\n",
      "  File \"/Users/cristina/Desktop/Learn/Ironhack/Labs/lab-functions-es/mod/testing.py\", line 127, in runTest\n",
      "    self.assertEqual(fn(self.input), self.output, f\"Should be {self.output}\")\n",
      "AssertionError: {17: 1} != 15 : Should be 15\n",
      "\n",
      "======================================================================\n",
      "FAIL: runTest (mod.testing.test_mode.<locals>.TestKnown.runTest)\n",
      "----------------------------------------------------------------------\n",
      "Traceback (most recent call last):\n",
      "  File \"/Users/cristina/Desktop/Learn/Ironhack/Labs/lab-functions-es/mod/testing.py\", line 127, in runTest\n",
      "    self.assertEqual(fn(self.input), self.output, f\"Should be {self.output}\")\n",
      "AssertionError: {8: 1} != 15 : Should be 15\n",
      "\n",
      "======================================================================\n",
      "FAIL: runTest (mod.testing.test_mode.<locals>.TestKnown.runTest)\n",
      "----------------------------------------------------------------------\n",
      "Traceback (most recent call last):\n",
      "  File \"/Users/cristina/Desktop/Learn/Ironhack/Labs/lab-functions-es/mod/testing.py\", line 127, in runTest\n",
      "    self.assertEqual(fn(self.input), self.output, f\"Should be {self.output}\")\n",
      "AssertionError: {5: 1} != 16 : Should be 16\n",
      "\n",
      "======================================================================\n",
      "FAIL: runTest (mod.testing.test_mode.<locals>.TestKnown.runTest)\n",
      "----------------------------------------------------------------------\n",
      "Traceback (most recent call last):\n",
      "  File \"/Users/cristina/Desktop/Learn/Ironhack/Labs/lab-functions-es/mod/testing.py\", line 127, in runTest\n",
      "    self.assertEqual(fn(self.input), self.output, f\"Should be {self.output}\")\n",
      "AssertionError: {8: 1} != 8 : Should be 8\n",
      "\n",
      "======================================================================\n",
      "FAIL: runTest (mod.testing.test_mode.<locals>.TestKnown.runTest)\n",
      "----------------------------------------------------------------------\n",
      "Traceback (most recent call last):\n",
      "  File \"/Users/cristina/Desktop/Learn/Ironhack/Labs/lab-functions-es/mod/testing.py\", line 127, in runTest\n",
      "    self.assertEqual(fn(self.input), self.output, f\"Should be {self.output}\")\n",
      "AssertionError: {2: 1} != 10 : Should be 10\n",
      "\n",
      "======================================================================\n",
      "FAIL: runTest (mod.testing.test_mode.<locals>.TestKnown.runTest)\n",
      "----------------------------------------------------------------------\n",
      "Traceback (most recent call last):\n",
      "  File \"/Users/cristina/Desktop/Learn/Ironhack/Labs/lab-functions-es/mod/testing.py\", line 127, in runTest\n",
      "    self.assertEqual(fn(self.input), self.output, f\"Should be {self.output}\")\n",
      "AssertionError: {9: 1} != 12 : Should be 12\n",
      "\n",
      "======================================================================\n",
      "FAIL: runTest (mod.testing.test_mode.<locals>.TestKnown.runTest)\n",
      "----------------------------------------------------------------------\n",
      "Traceback (most recent call last):\n",
      "  File \"/Users/cristina/Desktop/Learn/Ironhack/Labs/lab-functions-es/mod/testing.py\", line 127, in runTest\n",
      "    self.assertEqual(fn(self.input), self.output, f\"Should be {self.output}\")\n",
      "AssertionError: {19: 1} != 24 : Should be 24\n",
      "\n",
      "======================================================================\n",
      "FAIL: runTest (mod.testing.test_mode.<locals>.TestKnown.runTest)\n",
      "----------------------------------------------------------------------\n",
      "Traceback (most recent call last):\n",
      "  File \"/Users/cristina/Desktop/Learn/Ironhack/Labs/lab-functions-es/mod/testing.py\", line 127, in runTest\n",
      "    self.assertEqual(fn(self.input), self.output, f\"Should be {self.output}\")\n",
      "AssertionError: {19: 1} != 15 : Should be 15\n",
      "\n",
      "======================================================================\n",
      "FAIL: runTest (mod.testing.test_mode.<locals>.TestKnown.runTest)\n",
      "----------------------------------------------------------------------\n",
      "Traceback (most recent call last):\n",
      "  File \"/Users/cristina/Desktop/Learn/Ironhack/Labs/lab-functions-es/mod/testing.py\", line 127, in runTest\n",
      "    self.assertEqual(fn(self.input), self.output, f\"Should be {self.output}\")\n",
      "AssertionError: {13: 1} != 22 : Should be 22\n",
      "\n",
      "======================================================================\n",
      "FAIL: runTest (mod.testing.test_mode.<locals>.TestKnown.runTest)\n",
      "----------------------------------------------------------------------\n",
      "Traceback (most recent call last):\n",
      "  File \"/Users/cristina/Desktop/Learn/Ironhack/Labs/lab-functions-es/mod/testing.py\", line 127, in runTest\n",
      "    self.assertEqual(fn(self.input), self.output, f\"Should be {self.output}\")\n",
      "AssertionError: {17: 1} != 2 : Should be 2\n",
      "\n",
      "======================================================================\n",
      "FAIL: runTest (mod.testing.test_mode.<locals>.TestKnown.runTest)\n",
      "----------------------------------------------------------------------\n",
      "Traceback (most recent call last):\n",
      "  File \"/Users/cristina/Desktop/Learn/Ironhack/Labs/lab-functions-es/mod/testing.py\", line 127, in runTest\n",
      "    self.assertEqual(fn(self.input), self.output, f\"Should be {self.output}\")\n",
      "AssertionError: {7: 1} != 12 : Should be 12\n",
      "\n",
      "======================================================================\n",
      "FAIL: runTest (mod.testing.test_mode.<locals>.TestKnown.runTest)\n",
      "----------------------------------------------------------------------\n",
      "Traceback (most recent call last):\n",
      "  File \"/Users/cristina/Desktop/Learn/Ironhack/Labs/lab-functions-es/mod/testing.py\", line 127, in runTest\n",
      "    self.assertEqual(fn(self.input), self.output, f\"Should be {self.output}\")\n",
      "AssertionError: {15: 1} != 7 : Should be 7\n",
      "\n",
      "======================================================================\n",
      "FAIL: runTest (mod.testing.test_mode.<locals>.TestKnown.runTest)\n",
      "----------------------------------------------------------------------\n",
      "Traceback (most recent call last):\n",
      "  File \"/Users/cristina/Desktop/Learn/Ironhack/Labs/lab-functions-es/mod/testing.py\", line 127, in runTest\n",
      "    self.assertEqual(fn(self.input), self.output, f\"Should be {self.output}\")\n",
      "AssertionError: {17: 1} != 11 : Should be 11\n",
      "\n",
      "======================================================================\n",
      "FAIL: runTest (mod.testing.test_mode.<locals>.TestKnown.runTest)\n",
      "----------------------------------------------------------------------\n",
      "Traceback (most recent call last):\n",
      "  File \"/Users/cristina/Desktop/Learn/Ironhack/Labs/lab-functions-es/mod/testing.py\", line 127, in runTest\n",
      "    self.assertEqual(fn(self.input), self.output, f\"Should be {self.output}\")\n",
      "AssertionError: {13: 1} != 19 : Should be 19\n",
      "\n",
      "======================================================================\n",
      "FAIL: runTest (mod.testing.test_mode.<locals>.TestKnown.runTest)\n",
      "----------------------------------------------------------------------\n",
      "Traceback (most recent call last):\n",
      "  File \"/Users/cristina/Desktop/Learn/Ironhack/Labs/lab-functions-es/mod/testing.py\", line 127, in runTest\n",
      "    self.assertEqual(fn(self.input), self.output, f\"Should be {self.output}\")\n",
      "AssertionError: {15: 1} != 3 : Should be 3\n",
      "\n",
      "======================================================================\n",
      "FAIL: runTest (mod.testing.test_mode.<locals>.TestKnown.runTest)\n",
      "----------------------------------------------------------------------\n",
      "Traceback (most recent call last):\n",
      "  File \"/Users/cristina/Desktop/Learn/Ironhack/Labs/lab-functions-es/mod/testing.py\", line 127, in runTest\n",
      "    self.assertEqual(fn(self.input), self.output, f\"Should be {self.output}\")\n",
      "AssertionError: {5: 1} != 22 : Should be 22\n",
      "\n",
      "======================================================================\n",
      "FAIL: runTest (mod.testing.test_mode.<locals>.TestKnown.runTest)\n",
      "----------------------------------------------------------------------\n",
      "Traceback (most recent call last):\n",
      "  File \"/Users/cristina/Desktop/Learn/Ironhack/Labs/lab-functions-es/mod/testing.py\", line 127, in runTest\n",
      "    self.assertEqual(fn(self.input), self.output, f\"Should be {self.output}\")\n",
      "AssertionError: {17: 1} != 5 : Should be 5\n",
      "\n",
      "======================================================================\n",
      "FAIL: runTest (mod.testing.test_mode.<locals>.TestKnown.runTest)\n",
      "----------------------------------------------------------------------\n",
      "Traceback (most recent call last):\n",
      "  File \"/Users/cristina/Desktop/Learn/Ironhack/Labs/lab-functions-es/mod/testing.py\", line 127, in runTest\n",
      "    self.assertEqual(fn(self.input), self.output, f\"Should be {self.output}\")\n",
      "AssertionError: {21: 1} != 23 : Should be 23\n",
      "\n",
      "======================================================================\n",
      "FAIL: runTest (mod.testing.test_mode.<locals>.TestKnown.runTest)\n",
      "----------------------------------------------------------------------\n",
      "Traceback (most recent call last):\n",
      "  File \"/Users/cristina/Desktop/Learn/Ironhack/Labs/lab-functions-es/mod/testing.py\", line 127, in runTest\n",
      "    self.assertEqual(fn(self.input), self.output, f\"Should be {self.output}\")\n",
      "AssertionError: {17: 1} != 6 : Should be 6\n",
      "\n",
      "======================================================================\n",
      "FAIL: runTest (mod.testing.test_mode.<locals>.TestKnown.runTest)\n",
      "----------------------------------------------------------------------\n",
      "Traceback (most recent call last):\n",
      "  File \"/Users/cristina/Desktop/Learn/Ironhack/Labs/lab-functions-es/mod/testing.py\", line 127, in runTest\n",
      "    self.assertEqual(fn(self.input), self.output, f\"Should be {self.output}\")\n",
      "AssertionError: {20: 1} != 4 : Should be 4\n",
      "\n",
      "======================================================================\n",
      "FAIL: runTest (mod.testing.test_mode.<locals>.TestKnown.runTest)\n",
      "----------------------------------------------------------------------\n",
      "Traceback (most recent call last):\n",
      "  File \"/Users/cristina/Desktop/Learn/Ironhack/Labs/lab-functions-es/mod/testing.py\", line 127, in runTest\n",
      "    self.assertEqual(fn(self.input), self.output, f\"Should be {self.output}\")\n",
      "AssertionError: {23: 1} != 23 : Should be 23\n",
      "\n",
      "======================================================================\n",
      "FAIL: runTest (mod.testing.test_mode.<locals>.TestKnown.runTest)\n",
      "----------------------------------------------------------------------\n",
      "Traceback (most recent call last):\n",
      "  File \"/Users/cristina/Desktop/Learn/Ironhack/Labs/lab-functions-es/mod/testing.py\", line 127, in runTest\n",
      "    self.assertEqual(fn(self.input), self.output, f\"Should be {self.output}\")\n",
      "AssertionError: {1: 1} != 24 : Should be 24\n",
      "\n",
      "======================================================================\n",
      "FAIL: runTest (mod.testing.test_mode.<locals>.TestKnown.runTest)\n",
      "----------------------------------------------------------------------\n",
      "Traceback (most recent call last):\n",
      "  File \"/Users/cristina/Desktop/Learn/Ironhack/Labs/lab-functions-es/mod/testing.py\", line 127, in runTest\n",
      "    self.assertEqual(fn(self.input), self.output, f\"Should be {self.output}\")\n",
      "AssertionError: {19: 1} != 18 : Should be 18\n",
      "\n",
      "======================================================================\n",
      "FAIL: runTest (mod.testing.test_mode.<locals>.TestKnown.runTest)\n",
      "----------------------------------------------------------------------\n",
      "Traceback (most recent call last):\n",
      "  File \"/Users/cristina/Desktop/Learn/Ironhack/Labs/lab-functions-es/mod/testing.py\", line 127, in runTest\n",
      "    self.assertEqual(fn(self.input), self.output, f\"Should be {self.output}\")\n",
      "AssertionError: {17: 1} != 4 : Should be 4\n",
      "\n",
      "======================================================================\n",
      "FAIL: runTest (mod.testing.test_mode.<locals>.TestKnown.runTest)\n",
      "----------------------------------------------------------------------\n",
      "Traceback (most recent call last):\n",
      "  File \"/Users/cristina/Desktop/Learn/Ironhack/Labs/lab-functions-es/mod/testing.py\", line 127, in runTest\n",
      "    self.assertEqual(fn(self.input), self.output, f\"Should be {self.output}\")\n",
      "AssertionError: {22: 1} != 8 : Should be 8\n",
      "\n",
      "======================================================================\n",
      "FAIL: runTest (mod.testing.test_mode.<locals>.TestKnown.runTest)\n",
      "----------------------------------------------------------------------\n",
      "Traceback (most recent call last):\n",
      "  File \"/Users/cristina/Desktop/Learn/Ironhack/Labs/lab-functions-es/mod/testing.py\", line 127, in runTest\n",
      "    self.assertEqual(fn(self.input), self.output, f\"Should be {self.output}\")\n",
      "AssertionError: {17: 1} != 2 : Should be 2\n",
      "\n",
      "======================================================================\n",
      "FAIL: runTest (mod.testing.test_mode.<locals>.TestKnown.runTest)\n",
      "----------------------------------------------------------------------\n",
      "Traceback (most recent call last):\n",
      "  File \"/Users/cristina/Desktop/Learn/Ironhack/Labs/lab-functions-es/mod/testing.py\", line 127, in runTest\n",
      "    self.assertEqual(fn(self.input), self.output, f\"Should be {self.output}\")\n",
      "AssertionError: {5: 1} != 11 : Should be 11\n",
      "\n",
      "======================================================================\n",
      "FAIL: runTest (mod.testing.test_mode.<locals>.TestKnown.runTest)\n",
      "----------------------------------------------------------------------\n",
      "Traceback (most recent call last):\n",
      "  File \"/Users/cristina/Desktop/Learn/Ironhack/Labs/lab-functions-es/mod/testing.py\", line 127, in runTest\n",
      "    self.assertEqual(fn(self.input), self.output, f\"Should be {self.output}\")\n",
      "AssertionError: {16: 1} != 15 : Should be 15\n",
      "\n",
      "======================================================================\n",
      "FAIL: runTest (mod.testing.test_mode.<locals>.TestKnown.runTest)\n",
      "----------------------------------------------------------------------\n",
      "Traceback (most recent call last):\n",
      "  File \"/Users/cristina/Desktop/Learn/Ironhack/Labs/lab-functions-es/mod/testing.py\", line 127, in runTest\n",
      "    self.assertEqual(fn(self.input), self.output, f\"Should be {self.output}\")\n",
      "AssertionError: {16: 1} != 5 : Should be 5\n",
      "\n",
      "======================================================================\n",
      "FAIL: runTest (mod.testing.test_mode.<locals>.TestKnown.runTest)\n",
      "----------------------------------------------------------------------\n",
      "Traceback (most recent call last):\n",
      "  File \"/Users/cristina/Desktop/Learn/Ironhack/Labs/lab-functions-es/mod/testing.py\", line 127, in runTest\n",
      "    self.assertEqual(fn(self.input), self.output, f\"Should be {self.output}\")\n",
      "AssertionError: {6: 1} != 24 : Should be 24\n",
      "\n",
      "======================================================================\n",
      "FAIL: runTest (mod.testing.test_mode.<locals>.TestKnown.runTest)\n",
      "----------------------------------------------------------------------\n",
      "Traceback (most recent call last):\n",
      "  File \"/Users/cristina/Desktop/Learn/Ironhack/Labs/lab-functions-es/mod/testing.py\", line 127, in runTest\n",
      "    self.assertEqual(fn(self.input), self.output, f\"Should be {self.output}\")\n",
      "AssertionError: {6: 1} != 22 : Should be 22\n",
      "\n",
      "======================================================================\n",
      "FAIL: runTest (mod.testing.test_mode.<locals>.TestKnown.runTest)\n",
      "----------------------------------------------------------------------\n",
      "Traceback (most recent call last):\n",
      "  File \"/Users/cristina/Desktop/Learn/Ironhack/Labs/lab-functions-es/mod/testing.py\", line 127, in runTest\n",
      "    self.assertEqual(fn(self.input), self.output, f\"Should be {self.output}\")\n",
      "AssertionError: {19: 1} != 6 : Should be 6\n",
      "\n",
      "======================================================================\n",
      "FAIL: runTest (mod.testing.test_mode.<locals>.TestKnown.runTest)\n",
      "----------------------------------------------------------------------\n",
      "Traceback (most recent call last):\n",
      "  File \"/Users/cristina/Desktop/Learn/Ironhack/Labs/lab-functions-es/mod/testing.py\", line 127, in runTest\n",
      "    self.assertEqual(fn(self.input), self.output, f\"Should be {self.output}\")\n",
      "AssertionError: {20: 1} != 5 : Should be 5\n",
      "\n",
      "======================================================================\n",
      "FAIL: runTest (mod.testing.test_mode.<locals>.TestKnown.runTest)\n",
      "----------------------------------------------------------------------\n",
      "Traceback (most recent call last):\n",
      "  File \"/Users/cristina/Desktop/Learn/Ironhack/Labs/lab-functions-es/mod/testing.py\", line 127, in runTest\n",
      "    self.assertEqual(fn(self.input), self.output, f\"Should be {self.output}\")\n",
      "AssertionError: {23: 1} != 15 : Should be 15\n",
      "\n",
      "======================================================================\n",
      "FAIL: runTest (mod.testing.test_mode.<locals>.TestKnown.runTest)\n",
      "----------------------------------------------------------------------\n",
      "Traceback (most recent call last):\n",
      "  File \"/Users/cristina/Desktop/Learn/Ironhack/Labs/lab-functions-es/mod/testing.py\", line 127, in runTest\n",
      "    self.assertEqual(fn(self.input), self.output, f\"Should be {self.output}\")\n",
      "AssertionError: {11: 1} != 5 : Should be 5\n",
      "\n",
      "======================================================================\n",
      "FAIL: runTest (mod.testing.test_mode.<locals>.TestKnown.runTest)\n",
      "----------------------------------------------------------------------\n",
      "Traceback (most recent call last):\n",
      "  File \"/Users/cristina/Desktop/Learn/Ironhack/Labs/lab-functions-es/mod/testing.py\", line 127, in runTest\n",
      "    self.assertEqual(fn(self.input), self.output, f\"Should be {self.output}\")\n",
      "AssertionError: {18: 1} != 16 : Should be 16\n",
      "\n",
      "======================================================================\n",
      "FAIL: runTest (mod.testing.test_mode.<locals>.TestKnown.runTest)\n",
      "----------------------------------------------------------------------\n",
      "Traceback (most recent call last):\n",
      "  File \"/Users/cristina/Desktop/Learn/Ironhack/Labs/lab-functions-es/mod/testing.py\", line 127, in runTest\n",
      "    self.assertEqual(fn(self.input), self.output, f\"Should be {self.output}\")\n",
      "AssertionError: {14: 1} != 4 : Should be 4\n",
      "\n",
      "======================================================================\n",
      "FAIL: runTest (mod.testing.test_mode.<locals>.TestKnown.runTest)\n",
      "----------------------------------------------------------------------\n",
      "Traceback (most recent call last):\n",
      "  File \"/Users/cristina/Desktop/Learn/Ironhack/Labs/lab-functions-es/mod/testing.py\", line 127, in runTest\n",
      "    self.assertEqual(fn(self.input), self.output, f\"Should be {self.output}\")\n",
      "AssertionError: {9: 1} != 3 : Should be 3\n",
      "\n",
      "======================================================================\n",
      "FAIL: runTest (mod.testing.test_mode.<locals>.TestKnown.runTest)\n",
      "----------------------------------------------------------------------\n",
      "Traceback (most recent call last):\n",
      "  File \"/Users/cristina/Desktop/Learn/Ironhack/Labs/lab-functions-es/mod/testing.py\", line 127, in runTest\n",
      "    self.assertEqual(fn(self.input), self.output, f\"Should be {self.output}\")\n",
      "AssertionError: {21: 1} != 8 : Should be 8\n",
      "\n",
      "======================================================================\n",
      "FAIL: runTest (mod.testing.test_mode.<locals>.TestKnown.runTest)\n",
      "----------------------------------------------------------------------\n",
      "Traceback (most recent call last):\n",
      "  File \"/Users/cristina/Desktop/Learn/Ironhack/Labs/lab-functions-es/mod/testing.py\", line 127, in runTest\n",
      "    self.assertEqual(fn(self.input), self.output, f\"Should be {self.output}\")\n",
      "AssertionError: {8: 1} != 12 : Should be 12\n",
      "\n",
      "======================================================================\n",
      "FAIL: runTest (mod.testing.test_mode.<locals>.TestKnown.runTest)\n",
      "----------------------------------------------------------------------\n",
      "Traceback (most recent call last):\n",
      "  File \"/Users/cristina/Desktop/Learn/Ironhack/Labs/lab-functions-es/mod/testing.py\", line 127, in runTest\n",
      "    self.assertEqual(fn(self.input), self.output, f\"Should be {self.output}\")\n",
      "AssertionError: {3: 1} != 24 : Should be 24\n",
      "\n",
      "======================================================================\n",
      "FAIL: runTest (mod.testing.test_mode.<locals>.TestKnown.runTest)\n",
      "----------------------------------------------------------------------\n",
      "Traceback (most recent call last):\n",
      "  File \"/Users/cristina/Desktop/Learn/Ironhack/Labs/lab-functions-es/mod/testing.py\", line 127, in runTest\n",
      "    self.assertEqual(fn(self.input), self.output, f\"Should be {self.output}\")\n",
      "AssertionError: {23: 1} != 14 : Should be 14\n",
      "\n",
      "======================================================================\n",
      "FAIL: runTest (mod.testing.test_mode.<locals>.TestKnown.runTest)\n",
      "----------------------------------------------------------------------\n",
      "Traceback (most recent call last):\n",
      "  File \"/Users/cristina/Desktop/Learn/Ironhack/Labs/lab-functions-es/mod/testing.py\", line 127, in runTest\n",
      "    self.assertEqual(fn(self.input), self.output, f\"Should be {self.output}\")\n",
      "AssertionError: {3: 1} != 14 : Should be 14\n",
      "\n",
      "======================================================================\n",
      "FAIL: runTest (mod.testing.test_mode.<locals>.TestKnown.runTest)\n",
      "----------------------------------------------------------------------\n",
      "Traceback (most recent call last):\n",
      "  File \"/Users/cristina/Desktop/Learn/Ironhack/Labs/lab-functions-es/mod/testing.py\", line 127, in runTest\n",
      "    self.assertEqual(fn(self.input), self.output, f\"Should be {self.output}\")\n",
      "AssertionError: {10: 1} != 10 : Should be 10\n",
      "\n",
      "======================================================================\n",
      "FAIL: runTest (mod.testing.test_mode.<locals>.TestKnown.runTest)\n",
      "----------------------------------------------------------------------\n",
      "Traceback (most recent call last):\n",
      "  File \"/Users/cristina/Desktop/Learn/Ironhack/Labs/lab-functions-es/mod/testing.py\", line 127, in runTest\n",
      "    self.assertEqual(fn(self.input), self.output, f\"Should be {self.output}\")\n",
      "AssertionError: {12: 1} != 24 : Should be 24\n",
      "\n",
      "======================================================================\n",
      "FAIL: runTest (mod.testing.test_mode.<locals>.TestKnown.runTest)\n",
      "----------------------------------------------------------------------\n",
      "Traceback (most recent call last):\n",
      "  File \"/Users/cristina/Desktop/Learn/Ironhack/Labs/lab-functions-es/mod/testing.py\", line 127, in runTest\n",
      "    self.assertEqual(fn(self.input), self.output, f\"Should be {self.output}\")\n",
      "AssertionError: {11: 1} != 18 : Should be 18\n",
      "\n",
      "======================================================================\n",
      "FAIL: runTest (mod.testing.test_mode.<locals>.TestKnown.runTest)\n",
      "----------------------------------------------------------------------\n",
      "Traceback (most recent call last):\n",
      "  File \"/Users/cristina/Desktop/Learn/Ironhack/Labs/lab-functions-es/mod/testing.py\", line 127, in runTest\n",
      "    self.assertEqual(fn(self.input), self.output, f\"Should be {self.output}\")\n",
      "AssertionError: {25: 1} != 9 : Should be 9\n",
      "\n",
      "======================================================================\n",
      "FAIL: runTest (mod.testing.test_mode.<locals>.TestKnown.runTest)\n",
      "----------------------------------------------------------------------\n",
      "Traceback (most recent call last):\n",
      "  File \"/Users/cristina/Desktop/Learn/Ironhack/Labs/lab-functions-es/mod/testing.py\", line 127, in runTest\n",
      "    self.assertEqual(fn(self.input), self.output, f\"Should be {self.output}\")\n",
      "AssertionError: {16: 1} != 12 : Should be 12\n",
      "\n",
      "======================================================================\n",
      "FAIL: runTest (mod.testing.test_mode.<locals>.TestKnown.runTest)\n",
      "----------------------------------------------------------------------\n",
      "Traceback (most recent call last):\n",
      "  File \"/Users/cristina/Desktop/Learn/Ironhack/Labs/lab-functions-es/mod/testing.py\", line 127, in runTest\n",
      "    self.assertEqual(fn(self.input), self.output, f\"Should be {self.output}\")\n",
      "AssertionError: {24: 1} != 5 : Should be 5\n",
      "\n",
      "======================================================================\n",
      "FAIL: runTest (mod.testing.test_mode.<locals>.TestKnown.runTest)\n",
      "----------------------------------------------------------------------\n",
      "Traceback (most recent call last):\n",
      "  File \"/Users/cristina/Desktop/Learn/Ironhack/Labs/lab-functions-es/mod/testing.py\", line 127, in runTest\n",
      "    self.assertEqual(fn(self.input), self.output, f\"Should be {self.output}\")\n",
      "AssertionError: {11: 1} != 8 : Should be 8\n",
      "\n",
      "======================================================================\n",
      "FAIL: runTest (mod.testing.test_mode.<locals>.TestKnown.runTest)\n",
      "----------------------------------------------------------------------\n",
      "Traceback (most recent call last):\n",
      "  File \"/Users/cristina/Desktop/Learn/Ironhack/Labs/lab-functions-es/mod/testing.py\", line 127, in runTest\n",
      "    self.assertEqual(fn(self.input), self.output, f\"Should be {self.output}\")\n",
      "AssertionError: {1: 1} != 4 : Should be 4\n",
      "\n",
      "======================================================================\n",
      "FAIL: runTest (mod.testing.test_mode.<locals>.TestKnown.runTest)\n",
      "----------------------------------------------------------------------\n",
      "Traceback (most recent call last):\n",
      "  File \"/Users/cristina/Desktop/Learn/Ironhack/Labs/lab-functions-es/mod/testing.py\", line 127, in runTest\n",
      "    self.assertEqual(fn(self.input), self.output, f\"Should be {self.output}\")\n",
      "AssertionError: {15: 1} != 1 : Should be 1\n",
      "\n",
      "======================================================================\n",
      "FAIL: runTest (mod.testing.test_mode.<locals>.TestKnown.runTest)\n",
      "----------------------------------------------------------------------\n",
      "Traceback (most recent call last):\n",
      "  File \"/Users/cristina/Desktop/Learn/Ironhack/Labs/lab-functions-es/mod/testing.py\", line 127, in runTest\n",
      "    self.assertEqual(fn(self.input), self.output, f\"Should be {self.output}\")\n",
      "AssertionError: {14: 1} != 23 : Should be 23\n",
      "\n",
      "======================================================================\n",
      "FAIL: runTest (mod.testing.test_mode.<locals>.TestKnown.runTest)\n",
      "----------------------------------------------------------------------\n",
      "Traceback (most recent call last):\n",
      "  File \"/Users/cristina/Desktop/Learn/Ironhack/Labs/lab-functions-es/mod/testing.py\", line 127, in runTest\n",
      "    self.assertEqual(fn(self.input), self.output, f\"Should be {self.output}\")\n",
      "AssertionError: {9: 1} != 20 : Should be 20\n",
      "\n",
      "======================================================================\n",
      "FAIL: runTest (mod.testing.test_mode.<locals>.TestKnown.runTest)\n",
      "----------------------------------------------------------------------\n",
      "Traceback (most recent call last):\n",
      "  File \"/Users/cristina/Desktop/Learn/Ironhack/Labs/lab-functions-es/mod/testing.py\", line 127, in runTest\n",
      "    self.assertEqual(fn(self.input), self.output, f\"Should be {self.output}\")\n",
      "AssertionError: {16: 1} != 11 : Should be 11\n",
      "\n",
      "======================================================================\n",
      "FAIL: runTest (mod.testing.test_mode.<locals>.TestKnown.runTest)\n",
      "----------------------------------------------------------------------\n",
      "Traceback (most recent call last):\n",
      "  File \"/Users/cristina/Desktop/Learn/Ironhack/Labs/lab-functions-es/mod/testing.py\", line 127, in runTest\n",
      "    self.assertEqual(fn(self.input), self.output, f\"Should be {self.output}\")\n",
      "AssertionError: {2: 1} != 5 : Should be 5\n",
      "\n",
      "======================================================================\n",
      "FAIL: runTest (mod.testing.test_mode.<locals>.TestKnown.runTest)\n",
      "----------------------------------------------------------------------\n",
      "Traceback (most recent call last):\n",
      "  File \"/Users/cristina/Desktop/Learn/Ironhack/Labs/lab-functions-es/mod/testing.py\", line 127, in runTest\n",
      "    self.assertEqual(fn(self.input), self.output, f\"Should be {self.output}\")\n",
      "AssertionError: {7: 1} != 24 : Should be 24\n",
      "\n",
      "======================================================================\n",
      "FAIL: runTest (mod.testing.test_mode.<locals>.TestKnown.runTest)\n",
      "----------------------------------------------------------------------\n",
      "Traceback (most recent call last):\n",
      "  File \"/Users/cristina/Desktop/Learn/Ironhack/Labs/lab-functions-es/mod/testing.py\", line 127, in runTest\n",
      "    self.assertEqual(fn(self.input), self.output, f\"Should be {self.output}\")\n",
      "AssertionError: {7: 1} != 13 : Should be 13\n",
      "\n",
      "======================================================================\n",
      "FAIL: runTest (mod.testing.test_mode.<locals>.TestKnown.runTest)\n",
      "----------------------------------------------------------------------\n",
      "Traceback (most recent call last):\n",
      "  File \"/Users/cristina/Desktop/Learn/Ironhack/Labs/lab-functions-es/mod/testing.py\", line 127, in runTest\n",
      "    self.assertEqual(fn(self.input), self.output, f\"Should be {self.output}\")\n",
      "AssertionError: {22: 1} != 10 : Should be 10\n",
      "\n",
      "======================================================================\n",
      "FAIL: runTest (mod.testing.test_mode.<locals>.TestKnown.runTest)\n",
      "----------------------------------------------------------------------\n",
      "Traceback (most recent call last):\n",
      "  File \"/Users/cristina/Desktop/Learn/Ironhack/Labs/lab-functions-es/mod/testing.py\", line 127, in runTest\n",
      "    self.assertEqual(fn(self.input), self.output, f\"Should be {self.output}\")\n",
      "AssertionError: {11: 1} != 8 : Should be 8\n",
      "\n",
      "======================================================================\n",
      "FAIL: runTest (mod.testing.test_mode.<locals>.TestKnown.runTest)\n",
      "----------------------------------------------------------------------\n",
      "Traceback (most recent call last):\n",
      "  File \"/Users/cristina/Desktop/Learn/Ironhack/Labs/lab-functions-es/mod/testing.py\", line 127, in runTest\n",
      "    self.assertEqual(fn(self.input), self.output, f\"Should be {self.output}\")\n",
      "AssertionError: {14: 1} != 5 : Should be 5\n",
      "\n",
      "======================================================================\n",
      "FAIL: runTest (mod.testing.test_mode.<locals>.TestKnown.runTest)\n",
      "----------------------------------------------------------------------\n",
      "Traceback (most recent call last):\n",
      "  File \"/Users/cristina/Desktop/Learn/Ironhack/Labs/lab-functions-es/mod/testing.py\", line 127, in runTest\n",
      "    self.assertEqual(fn(self.input), self.output, f\"Should be {self.output}\")\n",
      "AssertionError: {16: 1} != 8 : Should be 8\n",
      "\n",
      "======================================================================\n",
      "FAIL: runTest (mod.testing.test_mode.<locals>.TestKnown.runTest)\n",
      "----------------------------------------------------------------------\n",
      "Traceback (most recent call last):\n",
      "  File \"/Users/cristina/Desktop/Learn/Ironhack/Labs/lab-functions-es/mod/testing.py\", line 127, in runTest\n",
      "    self.assertEqual(fn(self.input), self.output, f\"Should be {self.output}\")\n",
      "AssertionError: {10: 1} != 6 : Should be 6\n",
      "\n",
      "======================================================================\n",
      "FAIL: runTest (mod.testing.test_mode.<locals>.TestKnown.runTest)\n",
      "----------------------------------------------------------------------\n",
      "Traceback (most recent call last):\n",
      "  File \"/Users/cristina/Desktop/Learn/Ironhack/Labs/lab-functions-es/mod/testing.py\", line 127, in runTest\n",
      "    self.assertEqual(fn(self.input), self.output, f\"Should be {self.output}\")\n",
      "AssertionError: {5: 1} != 16 : Should be 16\n",
      "\n",
      "======================================================================\n",
      "FAIL: runTest (mod.testing.test_mode.<locals>.TestKnown.runTest)\n",
      "----------------------------------------------------------------------\n",
      "Traceback (most recent call last):\n",
      "  File \"/Users/cristina/Desktop/Learn/Ironhack/Labs/lab-functions-es/mod/testing.py\", line 127, in runTest\n",
      "    self.assertEqual(fn(self.input), self.output, f\"Should be {self.output}\")\n",
      "AssertionError: {22: 1} != 11 : Should be 11\n",
      "\n",
      "======================================================================\n",
      "FAIL: runTest (mod.testing.test_mode.<locals>.TestKnown.runTest)\n",
      "----------------------------------------------------------------------\n",
      "Traceback (most recent call last):\n",
      "  File \"/Users/cristina/Desktop/Learn/Ironhack/Labs/lab-functions-es/mod/testing.py\", line 127, in runTest\n",
      "    self.assertEqual(fn(self.input), self.output, f\"Should be {self.output}\")\n",
      "AssertionError: {24: 1} != 24 : Should be 24\n",
      "\n",
      "======================================================================\n",
      "FAIL: runTest (mod.testing.test_mode.<locals>.TestKnown.runTest)\n",
      "----------------------------------------------------------------------\n",
      "Traceback (most recent call last):\n",
      "  File \"/Users/cristina/Desktop/Learn/Ironhack/Labs/lab-functions-es/mod/testing.py\", line 127, in runTest\n",
      "    self.assertEqual(fn(self.input), self.output, f\"Should be {self.output}\")\n",
      "AssertionError: {7: 1} != 15 : Should be 15\n",
      "\n",
      "======================================================================\n",
      "FAIL: runTest (mod.testing.test_mode.<locals>.TestKnown.runTest)\n",
      "----------------------------------------------------------------------\n",
      "Traceback (most recent call last):\n",
      "  File \"/Users/cristina/Desktop/Learn/Ironhack/Labs/lab-functions-es/mod/testing.py\", line 127, in runTest\n",
      "    self.assertEqual(fn(self.input), self.output, f\"Should be {self.output}\")\n",
      "AssertionError: {6: 1} != 16 : Should be 16\n",
      "\n",
      "======================================================================\n",
      "FAIL: runTest (mod.testing.test_mode.<locals>.TestKnown.runTest)\n",
      "----------------------------------------------------------------------\n",
      "Traceback (most recent call last):\n",
      "  File \"/Users/cristina/Desktop/Learn/Ironhack/Labs/lab-functions-es/mod/testing.py\", line 127, in runTest\n",
      "    self.assertEqual(fn(self.input), self.output, f\"Should be {self.output}\")\n",
      "AssertionError: {7: 1} != 10 : Should be 10\n",
      "\n",
      "======================================================================\n",
      "FAIL: runTest (mod.testing.test_mode.<locals>.TestKnown.runTest)\n",
      "----------------------------------------------------------------------\n",
      "Traceback (most recent call last):\n",
      "  File \"/Users/cristina/Desktop/Learn/Ironhack/Labs/lab-functions-es/mod/testing.py\", line 127, in runTest\n",
      "    self.assertEqual(fn(self.input), self.output, f\"Should be {self.output}\")\n",
      "AssertionError: {16: 1} != 4 : Should be 4\n",
      "\n",
      "======================================================================\n",
      "FAIL: runTest (mod.testing.test_mode.<locals>.TestKnown.runTest)\n",
      "----------------------------------------------------------------------\n",
      "Traceback (most recent call last):\n",
      "  File \"/Users/cristina/Desktop/Learn/Ironhack/Labs/lab-functions-es/mod/testing.py\", line 127, in runTest\n",
      "    self.assertEqual(fn(self.input), self.output, f\"Should be {self.output}\")\n",
      "AssertionError: {20: 1} != 22 : Should be 22\n",
      "\n",
      "======================================================================\n",
      "FAIL: runTest (mod.testing.test_mode.<locals>.TestKnown.runTest)\n",
      "----------------------------------------------------------------------\n",
      "Traceback (most recent call last):\n",
      "  File \"/Users/cristina/Desktop/Learn/Ironhack/Labs/lab-functions-es/mod/testing.py\", line 127, in runTest\n",
      "    self.assertEqual(fn(self.input), self.output, f\"Should be {self.output}\")\n",
      "AssertionError: {13: 1} != 24 : Should be 24\n",
      "\n",
      "======================================================================\n",
      "FAIL: runTest (mod.testing.test_mode.<locals>.TestKnown.runTest)\n",
      "----------------------------------------------------------------------\n",
      "Traceback (most recent call last):\n",
      "  File \"/Users/cristina/Desktop/Learn/Ironhack/Labs/lab-functions-es/mod/testing.py\", line 127, in runTest\n",
      "    self.assertEqual(fn(self.input), self.output, f\"Should be {self.output}\")\n",
      "AssertionError: {9: 1} != 7 : Should be 7\n",
      "\n",
      "======================================================================\n",
      "FAIL: runTest (mod.testing.test_mode.<locals>.TestKnown.runTest)\n",
      "----------------------------------------------------------------------\n",
      "Traceback (most recent call last):\n",
      "  File \"/Users/cristina/Desktop/Learn/Ironhack/Labs/lab-functions-es/mod/testing.py\", line 127, in runTest\n",
      "    self.assertEqual(fn(self.input), self.output, f\"Should be {self.output}\")\n",
      "AssertionError: {2: 1} != 16 : Should be 16\n",
      "\n",
      "======================================================================\n",
      "FAIL: runTest (mod.testing.test_mode.<locals>.TestKnown.runTest)\n",
      "----------------------------------------------------------------------\n",
      "Traceback (most recent call last):\n",
      "  File \"/Users/cristina/Desktop/Learn/Ironhack/Labs/lab-functions-es/mod/testing.py\", line 127, in runTest\n",
      "    self.assertEqual(fn(self.input), self.output, f\"Should be {self.output}\")\n",
      "AssertionError: {3: 1} != 24 : Should be 24\n",
      "\n",
      "======================================================================\n",
      "FAIL: runTest (mod.testing.test_mode.<locals>.TestKnown.runTest)\n",
      "----------------------------------------------------------------------\n",
      "Traceback (most recent call last):\n",
      "  File \"/Users/cristina/Desktop/Learn/Ironhack/Labs/lab-functions-es/mod/testing.py\", line 127, in runTest\n",
      "    self.assertEqual(fn(self.input), self.output, f\"Should be {self.output}\")\n",
      "AssertionError: {6: 1} != 11 : Should be 11\n",
      "\n",
      "======================================================================\n",
      "FAIL: runTest (mod.testing.test_mode.<locals>.TestKnown.runTest)\n",
      "----------------------------------------------------------------------\n",
      "Traceback (most recent call last):\n",
      "  File \"/Users/cristina/Desktop/Learn/Ironhack/Labs/lab-functions-es/mod/testing.py\", line 127, in runTest\n",
      "    self.assertEqual(fn(self.input), self.output, f\"Should be {self.output}\")\n",
      "AssertionError: {21: 1} != 21 : Should be 21\n",
      "\n",
      "======================================================================\n",
      "FAIL: runTest (mod.testing.test_mode.<locals>.TestKnown.runTest)\n",
      "----------------------------------------------------------------------\n",
      "Traceback (most recent call last):\n",
      "  File \"/Users/cristina/Desktop/Learn/Ironhack/Labs/lab-functions-es/mod/testing.py\", line 127, in runTest\n",
      "    self.assertEqual(fn(self.input), self.output, f\"Should be {self.output}\")\n",
      "AssertionError: {25: 1} != 5 : Should be 5\n",
      "\n",
      "======================================================================\n",
      "FAIL: runTest (mod.testing.test_mode.<locals>.TestKnown.runTest)\n",
      "----------------------------------------------------------------------\n",
      "Traceback (most recent call last):\n",
      "  File \"/Users/cristina/Desktop/Learn/Ironhack/Labs/lab-functions-es/mod/testing.py\", line 127, in runTest\n",
      "    self.assertEqual(fn(self.input), self.output, f\"Should be {self.output}\")\n",
      "AssertionError: {8: 1} != 18 : Should be 18\n",
      "\n",
      "======================================================================\n",
      "FAIL: runTest (mod.testing.test_mode.<locals>.TestKnown.runTest)\n",
      "----------------------------------------------------------------------\n",
      "Traceback (most recent call last):\n",
      "  File \"/Users/cristina/Desktop/Learn/Ironhack/Labs/lab-functions-es/mod/testing.py\", line 127, in runTest\n",
      "    self.assertEqual(fn(self.input), self.output, f\"Should be {self.output}\")\n",
      "AssertionError: {20: 1} != 3 : Should be 3\n",
      "\n",
      "======================================================================\n",
      "FAIL: runTest (mod.testing.test_mode.<locals>.TestKnown.runTest)\n",
      "----------------------------------------------------------------------\n",
      "Traceback (most recent call last):\n",
      "  File \"/Users/cristina/Desktop/Learn/Ironhack/Labs/lab-functions-es/mod/testing.py\", line 127, in runTest\n",
      "    self.assertEqual(fn(self.input), self.output, f\"Should be {self.output}\")\n",
      "AssertionError: {3: 1} != 9 : Should be 9\n",
      "\n",
      "======================================================================\n",
      "FAIL: runTest (mod.testing.test_mode.<locals>.TestKnown.runTest)\n",
      "----------------------------------------------------------------------\n",
      "Traceback (most recent call last):\n",
      "  File \"/Users/cristina/Desktop/Learn/Ironhack/Labs/lab-functions-es/mod/testing.py\", line 127, in runTest\n",
      "    self.assertEqual(fn(self.input), self.output, f\"Should be {self.output}\")\n",
      "AssertionError: {7: 1} != 8 : Should be 8\n",
      "\n",
      "======================================================================\n",
      "FAIL: runTest (mod.testing.test_mode.<locals>.TestKnown.runTest)\n",
      "----------------------------------------------------------------------\n",
      "Traceback (most recent call last):\n",
      "  File \"/Users/cristina/Desktop/Learn/Ironhack/Labs/lab-functions-es/mod/testing.py\", line 127, in runTest\n",
      "    self.assertEqual(fn(self.input), self.output, f\"Should be {self.output}\")\n",
      "AssertionError: {14: 1} != 10 : Should be 10\n",
      "\n",
      "======================================================================\n",
      "FAIL: runTest (mod.testing.test_mode.<locals>.TestKnown.runTest)\n",
      "----------------------------------------------------------------------\n",
      "Traceback (most recent call last):\n",
      "  File \"/Users/cristina/Desktop/Learn/Ironhack/Labs/lab-functions-es/mod/testing.py\", line 127, in runTest\n",
      "    self.assertEqual(fn(self.input), self.output, f\"Should be {self.output}\")\n",
      "AssertionError: {11: 1} != 24 : Should be 24\n",
      "\n",
      "======================================================================\n",
      "FAIL: runTest (mod.testing.test_mode.<locals>.TestKnown.runTest)\n",
      "----------------------------------------------------------------------\n",
      "Traceback (most recent call last):\n",
      "  File \"/Users/cristina/Desktop/Learn/Ironhack/Labs/lab-functions-es/mod/testing.py\", line 127, in runTest\n",
      "    self.assertEqual(fn(self.input), self.output, f\"Should be {self.output}\")\n",
      "AssertionError: {23: 1} != 8 : Should be 8\n",
      "\n",
      "======================================================================\n",
      "FAIL: runTest (mod.testing.test_mode.<locals>.TestKnown.runTest)\n",
      "----------------------------------------------------------------------\n",
      "Traceback (most recent call last):\n",
      "  File \"/Users/cristina/Desktop/Learn/Ironhack/Labs/lab-functions-es/mod/testing.py\", line 127, in runTest\n",
      "    self.assertEqual(fn(self.input), self.output, f\"Should be {self.output}\")\n",
      "AssertionError: {12: 1} != 1 : Should be 1\n",
      "\n",
      "======================================================================\n",
      "FAIL: runTest (mod.testing.test_mode.<locals>.TestKnown.runTest)\n",
      "----------------------------------------------------------------------\n",
      "Traceback (most recent call last):\n",
      "  File \"/Users/cristina/Desktop/Learn/Ironhack/Labs/lab-functions-es/mod/testing.py\", line 127, in runTest\n",
      "    self.assertEqual(fn(self.input), self.output, f\"Should be {self.output}\")\n",
      "AssertionError: {15: 1} != 14 : Should be 14\n",
      "\n",
      "======================================================================\n",
      "FAIL: runTest (mod.testing.test_mode.<locals>.TestKnown.runTest)\n",
      "----------------------------------------------------------------------\n",
      "Traceback (most recent call last):\n",
      "  File \"/Users/cristina/Desktop/Learn/Ironhack/Labs/lab-functions-es/mod/testing.py\", line 127, in runTest\n",
      "    self.assertEqual(fn(self.input), self.output, f\"Should be {self.output}\")\n",
      "AssertionError: {1: 1} != 23 : Should be 23\n",
      "\n",
      "======================================================================\n",
      "FAIL: runTest (mod.testing.test_mode.<locals>.TestKnown.runTest)\n",
      "----------------------------------------------------------------------\n",
      "Traceback (most recent call last):\n",
      "  File \"/Users/cristina/Desktop/Learn/Ironhack/Labs/lab-functions-es/mod/testing.py\", line 127, in runTest\n",
      "    self.assertEqual(fn(self.input), self.output, f\"Should be {self.output}\")\n",
      "AssertionError: {14: 1} != 2 : Should be 2\n",
      "\n",
      "======================================================================\n",
      "FAIL: runTest (mod.testing.test_mode.<locals>.TestKnown.runTest)\n",
      "----------------------------------------------------------------------\n",
      "Traceback (most recent call last):\n",
      "  File \"/Users/cristina/Desktop/Learn/Ironhack/Labs/lab-functions-es/mod/testing.py\", line 127, in runTest\n",
      "    self.assertEqual(fn(self.input), self.output, f\"Should be {self.output}\")\n",
      "AssertionError: {25: 1} != 10 : Should be 10\n",
      "\n",
      "======================================================================\n",
      "FAIL: runTest (mod.testing.test_mode.<locals>.TestKnown.runTest)\n",
      "----------------------------------------------------------------------\n",
      "Traceback (most recent call last):\n",
      "  File \"/Users/cristina/Desktop/Learn/Ironhack/Labs/lab-functions-es/mod/testing.py\", line 127, in runTest\n",
      "    self.assertEqual(fn(self.input), self.output, f\"Should be {self.output}\")\n",
      "AssertionError: {14: 1} != 15 : Should be 15\n",
      "\n",
      "======================================================================\n",
      "FAIL: runTest (mod.testing.test_mode.<locals>.TestKnown.runTest)\n",
      "----------------------------------------------------------------------\n",
      "Traceback (most recent call last):\n",
      "  File \"/Users/cristina/Desktop/Learn/Ironhack/Labs/lab-functions-es/mod/testing.py\", line 127, in runTest\n",
      "    self.assertEqual(fn(self.input), self.output, f\"Should be {self.output}\")\n",
      "AssertionError: {23: 1} != 5 : Should be 5\n",
      "\n",
      "======================================================================\n",
      "FAIL: runTest (mod.testing.test_mode.<locals>.TestKnown.runTest)\n",
      "----------------------------------------------------------------------\n",
      "Traceback (most recent call last):\n",
      "  File \"/Users/cristina/Desktop/Learn/Ironhack/Labs/lab-functions-es/mod/testing.py\", line 127, in runTest\n",
      "    self.assertEqual(fn(self.input), self.output, f\"Should be {self.output}\")\n",
      "AssertionError: {12: 1} != 4 : Should be 4\n",
      "\n",
      "----------------------------------------------------------------------\n",
      "Ran 100 tests in 0.042s\n",
      "\n",
      "FAILED (failures=100)\n"
     ]
    }
   ],
   "source": [
    "# Para testear tu función \n",
    "test_mode(mode_counter)"
   ]
  },
  {
   "cell_type": "markdown",
   "metadata": {},
   "source": [
    "## 9. Escribe una función que calcule la desviación estándar de una lista.\n",
    "`NOTE: no utilices librerías ni ninguna función ya construida. 😉`"
   ]
  },
  {
   "cell_type": "code",
   "execution_count": 117,
   "metadata": {},
   "outputs": [
    {
     "name": "stdout",
     "output_type": "stream",
     "text": [
      "1.7875437057593864\n"
     ]
    }
   ],
   "source": [
    "def st_dev(list_sd):\n",
    "\n",
    "    total = len(list_sd) -1\n",
    "    promedio = sum(list_sd) / total\n",
    "\n",
    "    variacion = sum((x-promedio)**2 for x in list_sd) / total\n",
    "\n",
    "    dev = variacion ** 0.5\n",
    "\n",
    "    return dev\n",
    "\n",
    "a = [1,1,2,3,4,4,4,5,6]\n",
    "res = st_dev(a)\n",
    "print(res)\n"
   ]
  },
  {
   "cell_type": "code",
   "execution_count": 119,
   "metadata": {},
   "outputs": [
    {
     "name": "stderr",
     "output_type": "stream",
     "text": [
      "....................................................................................................\n",
      "----------------------------------------------------------------------\n",
      "Ran 100 tests in 0.027s\n",
      "\n",
      "OK\n"
     ]
    }
   ],
   "source": [
    "# Para testear tu función\n",
    "test_stdev(st_dev)"
   ]
  },
  {
   "cell_type": "markdown",
   "metadata": {},
   "source": [
    "## 10. Escribe una función para verificar si una cadena es un pangrama, es decir: si contiene todas las letras del alfabeto al menos una vez. Ten en cuenta que las cadenas pueden contener caracteres que no son letras."
   ]
  },
  {
   "cell_type": "code",
   "execution_count": 159,
   "metadata": {},
   "outputs": [
    {
     "name": "stdout",
     "output_type": "stream",
     "text": [
      "False\n"
     ]
    }
   ],
   "source": [
    "cadena = \"abc\"\n",
    "\n",
    "def pangram(string):\n",
    "    abecedario = \"ABCDEFGHIJKLMNOPQRSTUVWXYZ\"\n",
    "    string = string.upper()\n",
    "    \n",
    "    for letra in abecedario:\n",
    "        if letra not in string:\n",
    "            return False\n",
    "            \n",
    "    return True\n",
    "\n",
    "print(pangram(cadena))"
   ]
  },
  {
   "cell_type": "code",
   "execution_count": 161,
   "metadata": {},
   "outputs": [
    {
     "name": "stderr",
     "output_type": "stream",
     "text": [
      "..............................\n",
      "----------------------------------------------------------------------\n",
      "Ran 30 tests in 0.024s\n",
      "\n",
      "OK\n"
     ]
    }
   ],
   "source": [
    "# Para testear tu función\n",
    "test_pangram(pangram)"
   ]
  },
  {
   "cell_type": "markdown",
   "metadata": {},
   "source": [
    "## 11. Escribe una función que reciba una cadena de palabras separadas por comas y devuelva una cadena de palabras separadas por comas ordenadas alfabéticamente.\n",
    "\n",
    "`NOTA: Puedes usar sorted pero no split y definitivamente no join! 🤪`"
   ]
  },
  {
   "cell_type": "code",
   "execution_count": 215,
   "metadata": {},
   "outputs": [
    {
     "name": "stdout",
     "output_type": "stream",
     "text": [
      "banana,manzana,naranja,pera\n"
     ]
    }
   ],
   "source": [
    "cadena = \"manzana,banana,naranja,pera\"\n",
    "\n",
    "def sort_alpha(string):\n",
    "    lista_palabras = []\n",
    "    palabra_actual = \"\"\n",
    "    for letra in string:\n",
    "        if letra == \",\":\n",
    "            lista_palabras.append(palabra_actual)\n",
    "            palabra_actual = \"\"\n",
    "\n",
    "        else:\n",
    "            palabra_actual += letra\n",
    "\n",
    "\n",
    "    lista_palabras.append(palabra_actual)\n",
    "            \n",
    "    sorted_list = sorted(lista_palabras)        \n",
    "    \n",
    "    sorted_string = \"\"\n",
    "    \n",
    "    for i in range(len(sorted_list)):\n",
    "        sorted_string += sorted_list[i]\n",
    "        \n",
    "        if i < len(sorted_list)-1:\n",
    "            sorted_string += \",\"\n",
    "\n",
    "    \n",
    "    return sorted_string\n",
    "\n",
    "print(sort_alpha(cadena))"
   ]
  },
  {
   "cell_type": "code",
   "execution_count": 217,
   "metadata": {},
   "outputs": [
    {
     "name": "stderr",
     "output_type": "stream",
     "text": [
      "....................................................................................................\n",
      "----------------------------------------------------------------------\n",
      "Ran 100 tests in 0.041s\n",
      "\n",
      "OK\n"
     ]
    }
   ],
   "source": [
    "# Para testear tu función \n",
    "test_alpha(sort_alpha)"
   ]
  },
  {
   "cell_type": "markdown",
   "metadata": {},
   "source": [
    "## 12. Escribe una función para verificar si una contraseña dada es fuerte (al menos 8 caracteres, al menos una minúscula, al menos una mayúscula, al menos un número y al menos un carácter especial). Debería devolver True si es fuerte y False si no lo es."
   ]
  },
  {
   "cell_type": "code",
   "execution_count": 237,
   "metadata": {},
   "outputs": [
    {
     "name": "stdout",
     "output_type": "stream",
     "text": [
      "False\n"
     ]
    }
   ],
   "source": [
    "def check_pass(password):\n",
    "    \n",
    "    if len(password) < 8:\n",
    "            return False\n",
    "\n",
    "    has_lower = False\n",
    "    has_upper = False\n",
    "    has_digit = False\n",
    "    has_special = False\n",
    "    \n",
    "    for char in password:\n",
    "        \n",
    "        if char.islower():\n",
    "            has_lower = True\n",
    "\n",
    "        if char.isupper():\n",
    "            has_upper = True\n",
    "        \n",
    "        if char.isdigit():\n",
    "            has_digit = True\n",
    "\n",
    "        if not char.isalnum():\n",
    "            has_special = True\n",
    "\n",
    "    return has_lower and has_upper and has_digit and has_special\n",
    "    \n",
    "\n",
    "password = \"abc123ABC\"\n",
    "\n",
    "print(check_pass(password))\n",
    "\n",
    "        \n",
    "        \n"
   ]
  },
  {
   "cell_type": "code",
   "execution_count": 239,
   "metadata": {},
   "outputs": [
    {
     "name": "stderr",
     "output_type": "stream",
     "text": [
      "....................................................................................................\n",
      "----------------------------------------------------------------------\n",
      "Ran 100 tests in 0.033s\n",
      "\n",
      "OK\n"
     ]
    }
   ],
   "source": [
    "# Para testear tu función\n",
    "test_pass(check_pass)"
   ]
  }
 ],
 "metadata": {
  "kernelspec": {
   "display_name": "Python 3 (ipykernel)",
   "language": "python",
   "name": "python3"
  },
  "language_info": {
   "codemirror_mode": {
    "name": "ipython",
    "version": 3
   },
   "file_extension": ".py",
   "mimetype": "text/x-python",
   "name": "python",
   "nbconvert_exporter": "python",
   "pygments_lexer": "ipython3",
   "version": "3.12.4"
  },
  "vscode": {
   "interpreter": {
    "hash": "aee8b7b246df8f9039afb4144a1f6fd8d2ca17a180786b69acc140d282b71a49"
   }
  }
 },
 "nbformat": 4,
 "nbformat_minor": 4
}

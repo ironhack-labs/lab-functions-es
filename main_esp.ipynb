{
 "cells": [
  {
   "cell_type": "markdown",
   "metadata": {},
   "source": [
    "# Functions"
   ]
  },
  {
   "cell_type": "markdown",
   "metadata": {},
   "source": [
    "En este laboratorio pondremos en práctica algunos de los conceptos que hemos aprendido en los últimos días.\n",
    "\n",
    "`NOTA: En este laboratorio deberías intentar escribir todas las funciones por ti mismo utilizando solo la sintaxis más básica de Python y sin funciones como len, count, sum, max, min, in, etc. Dale una oportunidad. 🧑🏻‍💻👩🏻‍💻`\n",
    "\n",
    "La celda después de cada ejercicio contiene algunas pruebas para verificar si tu función funciona como se espera."
   ]
  },
  {
   "cell_type": "code",
   "execution_count": 1,
   "metadata": {},
   "outputs": [],
   "source": [
    "from mod.testing import *\n",
    "import unittest"
   ]
  },
  {
   "cell_type": "markdown",
   "metadata": {},
   "source": [
    "## 1. Escribe una función que devuelva el mayor de dos números"
   ]
  },
  {
   "cell_type": "code",
   "execution_count": 4,
   "metadata": {},
   "outputs": [
    {
     "data": {
      "text/plain": [
       "4"
      ]
     },
     "execution_count": 4,
     "metadata": {},
     "output_type": "execute_result"
    }
   ],
   "source": [
    "def greater(a,b):\n",
    "    if a>b: \n",
    "        return a\n",
    "    else: \n",
    "        return b\n",
    "        \n",
    "# Ejemplo de uso\n",
    "greater (2,4)"
   ]
  },
  {
   "cell_type": "code",
   "execution_count": 5,
   "metadata": {},
   "outputs": [
    {
     "name": "stderr",
     "output_type": "stream",
     "text": [
      "....................................................................................................\n",
      "----------------------------------------------------------------------\n",
      "Ran 100 tests in 0.265s\n",
      "\n",
      "OK\n"
     ]
    }
   ],
   "source": [
    "# Para testear tu función\n",
    "test_greater(greater)"
   ]
  },
  {
   "cell_type": "markdown",
   "metadata": {},
   "source": [
    "## 2. Ahora escribe una función que devuelva el elemento más"
   ]
  },
  {
   "cell_type": "code",
   "execution_count": 7,
   "metadata": {},
   "outputs": [
    {
     "name": "stdout",
     "output_type": "stream",
     "text": [
      "4\n"
     ]
    }
   ],
   "source": [
    "def greatest(numbers):\n",
    "    # Inicializamos una variable max_number\n",
    "    max_number = 0\n",
    "    for number in numbers:\n",
    "        # Si el número actual es mayor que max_number, actualizamos max_number\n",
    "        if number > max_number:\n",
    "            max_number = number\n",
    "    # Devolvemos el número más grande encontrado\n",
    "    return max_number\n",
    "    \n",
    "# Ejemplo de uso\n",
    "print(greatest([1,2,3,4]))"
   ]
  },
  {
   "cell_type": "code",
   "execution_count": 8,
   "metadata": {},
   "outputs": [
    {
     "name": "stderr",
     "output_type": "stream",
     "text": [
      "....................................................................................................\n",
      "----------------------------------------------------------------------\n",
      "Ran 100 tests in 0.223s\n",
      "\n",
      "OK\n"
     ]
    }
   ],
   "source": [
    "# Para testear tu función\n",
    "test_greatest(greatest)"
   ]
  },
  {
   "cell_type": "markdown",
   "metadata": {},
   "source": [
    "## 3. Escribe una función que sume todos los elementos de una lista"
   ]
  },
  {
   "cell_type": "code",
   "execution_count": 10,
   "metadata": {},
   "outputs": [
    {
     "name": "stdout",
     "output_type": "stream",
     "text": [
      "10\n"
     ]
    }
   ],
   "source": [
    "def sum_all(numbers):\n",
    "    # Inicializamos una variable sum_all\n",
    "    sum_all = 0\n",
    "    for number in numbers:\n",
    "        # A cada iteración, sumamos el número actual a la variable sum_all\n",
    "        sum_all += number\n",
    "    return sum_all\n",
    "    \n",
    "# Ejemplo de uso\n",
    "print(sum_all([1,2,3,4]))"
   ]
  },
  {
   "cell_type": "code",
   "execution_count": 11,
   "metadata": {
    "scrolled": true
   },
   "outputs": [
    {
     "name": "stderr",
     "output_type": "stream",
     "text": [
      "....................................................................................................\n",
      "----------------------------------------------------------------------\n",
      "Ran 100 tests in 0.190s\n",
      "\n",
      "OK\n"
     ]
    }
   ],
   "source": [
    "# Para testear tu función\n",
    "test_sum(sum_all)"
   ]
  },
  {
   "cell_type": "markdown",
   "metadata": {},
   "source": [
    "## 4. Escribe otra función que multiplique todos los elementos de una lista"
   ]
  },
  {
   "cell_type": "code",
   "execution_count": 13,
   "metadata": {},
   "outputs": [
    {
     "name": "stdout",
     "output_type": "stream",
     "text": [
      "24\n"
     ]
    }
   ],
   "source": [
    "def mult_all(numbers):\n",
    "    mult_all = 1\n",
    "    for number in numbers:\n",
    "        # A cada iteración, multiplicamos el número actual con mult_all\n",
    "        mult_all *= number\n",
    "    return mult_all\n",
    "    \n",
    "# Ejemplo de uso\n",
    "print(mult_all([1,2,3,4]))"
   ]
  },
  {
   "cell_type": "code",
   "execution_count": 14,
   "metadata": {
    "scrolled": true
   },
   "outputs": [
    {
     "name": "stderr",
     "output_type": "stream",
     "text": [
      "....................................................................................................\n",
      "----------------------------------------------------------------------\n",
      "Ran 100 tests in 0.189s\n",
      "\n",
      "OK\n"
     ]
    }
   ],
   "source": [
    "# Para testear tu función\n",
    "test_mult(mult_all)"
   ]
  },
  {
   "cell_type": "markdown",
   "metadata": {},
   "source": [
    "## 5. Ahora combina esas dos ideas y escribe una función que reciba una lista y ya sea \"+\" o \"*\", y produzca el resultado acorde"
   ]
  },
  {
   "cell_type": "code",
   "execution_count": 17,
   "metadata": {},
   "outputs": [
    {
     "name": "stdout",
     "output_type": "stream",
     "text": [
      "24\n"
     ]
    }
   ],
   "source": [
    "def oper_all(numbers, oper = \"*\"):\n",
    "    #Inicializar el oper_all según la operación\n",
    "    if oper == \"*\":\n",
    "        oper_all = 1\n",
    "    elif oper == \"+\":\n",
    "        oper_all = 0\n",
    "    else:\n",
    "        return f\"Operacion no valida\"\n",
    "        \n",
    "    #bucle    \n",
    "    for number in numbers:\n",
    "        # Si la operación es multiplicación, multiplicamos el número actual con oper_all\n",
    "        if oper == \"*\":\n",
    "            oper_all *= number\n",
    "        # Si la operación es suma, sumamos el número actual a oper_all\n",
    "        elif oper == \"+\":\n",
    "            oper_all += number\n",
    "    return oper_all\n",
    "    \n",
    "# Ejemplo de uso\n",
    "print(oper_all([1,2,3,4]))"
   ]
  },
  {
   "cell_type": "code",
   "execution_count": 18,
   "metadata": {},
   "outputs": [
    {
     "name": "stderr",
     "output_type": "stream",
     "text": [
      "....................................................................................................\n",
      "----------------------------------------------------------------------\n",
      "Ran 100 tests in 0.185s\n",
      "\n",
      "OK\n"
     ]
    }
   ],
   "source": [
    "# Para testear tu función\n",
    "test_operations(oper_all)"
   ]
  },
  {
   "cell_type": "markdown",
   "metadata": {},
   "source": [
    "## 6. Escribe una función que devuelva el factorial de un número."
   ]
  },
  {
   "cell_type": "code",
   "execution_count": 20,
   "metadata": {},
   "outputs": [
    {
     "name": "stdout",
     "output_type": "stream",
     "text": [
      "720\n"
     ]
    }
   ],
   "source": [
    "def factorial(n): \n",
    "    factorial = 1\n",
    "     # Iteramos desde 1 hasta n (incluyendo n) usando range(1, n+1), multiplicando el valor actual de n con el acumulado en factorial\n",
    "    for n in range (1, n+1):\n",
    "        factorial *= n\n",
    "    return factorial\n",
    "    \n",
    "# Ejemplo de uso\n",
    "print(factorial(6))"
   ]
  },
  {
   "cell_type": "code",
   "execution_count": 21,
   "metadata": {},
   "outputs": [],
   "source": [
    "# Fórmula factorial\n",
    "# n! = n * (n - 1) *...*1\n",
    "\n",
    "# Este código define una función llamada \"factorial\" que toma una entrada \"n\". La función utiliza un bucle for para iterar a través del rango de números\n",
    "# desde 1 hasta n+1. Para cada número en ese rango, multiplica el valor actual de x por el número en el rango. Al final del bucle,\n",
    "# la función devuelve el valor final de x, que será el factorial del número de entrada \"n\".\n",
    "\n",
    "# El factorial de un entero positivo n es el producto de todos los enteros positivos menores o iguales a n.\n",
    "# Por ejemplo, el factorial de 6 (escrito \"6!\") es 6 * 5 * 4 * 3 * 2 * 1 = 720.\n",
    "\n",
    "# Así que esta función toma una entrada de cualquier entero positivo y devuelve el factorial de ese número."
   ]
  },
  {
   "cell_type": "code",
   "execution_count": 24,
   "metadata": {},
   "outputs": [
    {
     "name": "stderr",
     "output_type": "stream",
     "text": [
      "....................................................................................................\n",
      "----------------------------------------------------------------------\n",
      "Ran 100 tests in 0.136s\n",
      "\n",
      "OK\n"
     ]
    }
   ],
   "source": [
    "# This will test your function \n",
    "test_factorial(factorial)"
   ]
  },
  {
   "cell_type": "markdown",
   "metadata": {},
   "source": [
    "## 7. Escribe una función que tome una lista y devuelva una lista de los valores únicos.\n",
    "\n",
    "`NOTE: No podemos usar set. 🤔`"
   ]
  },
  {
   "cell_type": "code",
   "execution_count": 26,
   "metadata": {},
   "outputs": [
    {
     "name": "stdout",
     "output_type": "stream",
     "text": [
      "[1, 2, 3, 4, 5]\n"
     ]
    }
   ],
   "source": [
    "def unique(un_numbers):\n",
    "    # Inicializamos una lista vacía unique_list para almacenar los valores únicos\n",
    "    unique_list = []\n",
    "    for number in un_numbers:\n",
    "        # Si el número no está ya en unique_list, lo añadimos\n",
    "        if number not in unique_list:\n",
    "            unique_list.append(number)    \n",
    "    return unique_list\n",
    "    \n",
    "# Ejemplo de uso\n",
    "print(unique([1,2,2,3,4,4,5]))"
   ]
  },
  {
   "cell_type": "code",
   "execution_count": 27,
   "metadata": {},
   "outputs": [
    {
     "name": "stderr",
     "output_type": "stream",
     "text": [
      "....................................................................................................\n",
      "----------------------------------------------------------------------\n",
      "Ran 100 tests in 0.351s\n",
      "\n",
      "OK\n"
     ]
    }
   ],
   "source": [
    "# Para testear tu función \n",
    "test_unique(unique)"
   ]
  },
  {
   "cell_type": "markdown",
   "metadata": {},
   "source": [
    "## 8. Escribe una función que devuelva la moda de una lista, es decir: el elemento que aparece más veces.\n",
    "\n",
    "`NOTE: No se debe usar count... 🧐`"
   ]
  },
  {
   "cell_type": "code",
   "execution_count": 31,
   "metadata": {},
   "outputs": [
    {
     "name": "stdout",
     "output_type": "stream",
     "text": [
      "4\n"
     ]
    }
   ],
   "source": [
    "def mode_counter(list):\n",
    "    frequencies = {} # Diccionario para almacenar la frecuencia de cada número\n",
    "    \n",
    "     # Contar la frecuencia de cada elemento\n",
    "    for number in list:\n",
    "        if number in frequencies:\n",
    "            frequencies[number] += 1\n",
    "        else:\n",
    "            frequencies[number] = 1\n",
    "    \n",
    "    # Encontrar la moda\n",
    "    moda = None\n",
    "    max_frequency = 0  # Inicializamos la frecuencia máxima en 0\n",
    "    \n",
    "    for number, frequency in frequencies.items(): #Para obtener tanto la clave como el valor, hay que usar .items()\n",
    "        if frequency > max_frequency:\n",
    "            max_frequency = frequency\n",
    "            moda = number       \n",
    "    return moda\n",
    "    \n",
    "# Ejemplo de uso\n",
    "print(mode_counter([1,2,2,3,4,4,4,5]))\n",
    "    "
   ]
  },
  {
   "cell_type": "code",
   "execution_count": 34,
   "metadata": {},
   "outputs": [
    {
     "name": "stderr",
     "output_type": "stream",
     "text": [
      "....................................................................................................\n",
      "----------------------------------------------------------------------\n",
      "Ran 100 tests in 0.162s\n",
      "\n",
      "OK\n"
     ]
    }
   ],
   "source": [
    "# Para testear tu función \n",
    "test_mode(mode_counter)"
   ]
  },
  {
   "cell_type": "markdown",
   "metadata": {},
   "source": [
    "## 9. Escribe una función que calcule la desviación estándar de una lista.\n",
    "`NOTE: no utilices librerías ni ninguna función ya construida. 😉`"
   ]
  },
  {
   "cell_type": "code",
   "execution_count": 37,
   "metadata": {},
   "outputs": [
    {
     "name": "stdout",
     "output_type": "stream",
     "text": [
      "7.343607521414215\n"
     ]
    }
   ],
   "source": [
    "def st_dev(list_sd):\n",
    "    \n",
    "    # Calcular la suma y el número de elementos de la lista manualmente\n",
    "    suma = 0\n",
    "    contador = 0\n",
    "    for valor in list_sd:\n",
    "        suma += valor\n",
    "        contador += 1\n",
    "        \n",
    "    # Calcular la media\n",
    "    media = suma / contador\n",
    "\n",
    "    # Calcular la suma de las diferencias al cuadrado\n",
    "    suma_diferencias_cuadradas = 0\n",
    "    for valor in list_sd:\n",
    "        suma_diferencias_cuadradas += (valor - media) ** 2\n",
    "\n",
    "    # Calcular la varianza\n",
    "    varianza = suma_diferencias_cuadradas / (contador - 1)\n",
    "\n",
    "    # Calcular la desviación estándar\n",
    "    desviacion = varianza ** 0.5  # Raíz cuadrada de la varianza\n",
    "\n",
    "    return desviacion\n",
    "    \n",
    "# Ejemplo de uso\n",
    "lista_1 = [8,12,28,23,16,28,15,16]\n",
    "resultado = st_dev(lista_1)\n",
    "print(resultado)"
   ]
  },
  {
   "cell_type": "code",
   "execution_count": 39,
   "metadata": {},
   "outputs": [
    {
     "name": "stderr",
     "output_type": "stream",
     "text": [
      "....................................................................................................\n",
      "----------------------------------------------------------------------\n",
      "Ran 100 tests in 0.165s\n",
      "\n",
      "OK\n"
     ]
    }
   ],
   "source": [
    "# Para testear tu función\n",
    "test_stdev(st_dev)"
   ]
  },
  {
   "cell_type": "markdown",
   "metadata": {},
   "source": [
    "## 10. Escribe una función para verificar si una cadena es un pangrama, es decir: si contiene todas las letras del alfabeto al menos una vez. Ten en cuenta que las cadenas pueden contener caracteres que no son letras."
   ]
  },
  {
   "cell_type": "code",
   "execution_count": 41,
   "metadata": {},
   "outputs": [
    {
     "name": "stdout",
     "output_type": "stream",
     "text": [
      "False\n"
     ]
    }
   ],
   "source": [
    "def pangram(string):\n",
    "    abecedary = ['a', 'b', 'c', 'd', 'e', 'f', 'g', 'h', 'i', 'j', 'k', 'l', 'm', \n",
    "                'n', 'o', 'p', 'q', 'r', 's', 't', 'u', 'v', 'w', 'x', 'y', 'z']\n",
    "    \n",
    "    #Lista vacía para almacenar letras\n",
    "    found_letters = []\n",
    "    \n",
    "    #Recorrer la cadena para verificar si contiene todas las letras del alfabeto     \n",
    "    for letter in string:\n",
    "        \n",
    "        #Convertir la letra a minúscula y comprobar si es una letra\n",
    "        lower_letter = letter.lower()\n",
    "        if 'a' <= lower_letter <= 'z' and lower_letter not in found_letters:\n",
    "            found_letters.append(lower_letter)\n",
    "            \n",
    "     # Verificar si hemos encontrado todas las letras del alfabeto\n",
    "    for letter in abecedary:\n",
    "        if letter not in found_letters:\n",
    "            return False\n",
    "    # El return debe estar fuera del ciclo que verifica si todas las letras están en la cadena.    \n",
    "    return True\n",
    "            \n",
    "#Ejemplo de uso\n",
    "string_1 = \"El curso es impartido por Ironhack\"\n",
    "print(pangram(string_1))"
   ]
  },
  {
   "cell_type": "code",
   "execution_count": 45,
   "metadata": {},
   "outputs": [
    {
     "name": "stderr",
     "output_type": "stream",
     "text": [
      "..............................\n",
      "----------------------------------------------------------------------\n",
      "Ran 30 tests in 0.066s\n",
      "\n",
      "OK\n"
     ]
    }
   ],
   "source": [
    "# Para testear tu función\n",
    "test_pangram(pangram)"
   ]
  },
  {
   "cell_type": "markdown",
   "metadata": {},
   "source": [
    "## 11. Escribe una función que reciba una cadena de palabras separadas por comas y devuelva una cadena de palabras separadas por comas ordenadas alfabéticamente.\n",
    "\n",
    "`NOTA: Puedes usar sorted pero no split y definitivamente no join! 🤪`"
   ]
  },
  {
   "cell_type": "code",
   "execution_count": 47,
   "metadata": {},
   "outputs": [
    {
     "name": "stdout",
     "output_type": "stream",
     "text": [
      "albaricoque,banana,naranja,pera,uva\n"
     ]
    }
   ],
   "source": [
    "def sort_alpha(string):\n",
    "    words = []\n",
    "    actual_word = \"\"\n",
    "    \n",
    "    # Recorremos el string para separar las palabras por comas manualmente\n",
    "    for word in string:\n",
    "        if word == ',':\n",
    "            # Añadimos la palabra a la lista cuando encontramos una coma\n",
    "            words.append(actual_word)\n",
    "            actual_word = \"\"\n",
    "        else:\n",
    "            # Vamos acumulando los caracteres de la palabra actual\n",
    "            actual_word += word\n",
    "    \n",
    "    # Añadir la última palabra (que no va seguida por una coma)\n",
    "    words.append(actual_word)\n",
    "    \n",
    "    # Usamos sorted para ordenar las palabras alfabéticamente\n",
    "    sorted_words = sorted(words)\n",
    "    \n",
    "    # Construimos la cadena resultado\n",
    "    sorted_string = \"\"\n",
    "    index = 0\n",
    "\n",
    "    # Contar manualmente el número de elementos en sorted_words\n",
    "    count = 0\n",
    "    while True:\n",
    "        try:\n",
    "            sorted_words[count] \n",
    "            count += 1\n",
    "        except IndexError:\n",
    "            break\n",
    "\n",
    "    # Para recorrer la lista sorted_words\n",
    "    while True:\n",
    "        try:\n",
    "            word = sorted_words[index]\n",
    "            sorted_string += word\n",
    "            index += 1\n",
    "            \n",
    "            # Agregar una coma si no es el último elemento\n",
    "            if index < count: \n",
    "                sorted_string += \",\"\n",
    "        except IndexError:\n",
    "            # Si llegamos al final de la lista, salimos del bucle\n",
    "            break\n",
    "    \n",
    "    return sorted_string\n",
    "\n",
    "# Ejemplo de uso\n",
    "string_1 = \"naranja,banana,albaricoque,uva,pera\"\n",
    "result = sort_alpha(string_1)\n",
    "print(result)"
   ]
  },
  {
   "cell_type": "code",
   "execution_count": 50,
   "metadata": {},
   "outputs": [
    {
     "name": "stderr",
     "output_type": "stream",
     "text": [
      "....................................................................................................\n",
      "----------------------------------------------------------------------\n",
      "Ran 100 tests in 0.177s\n",
      "\n",
      "OK\n"
     ]
    }
   ],
   "source": [
    "# Para testear tu función \n",
    "test_alpha(sort_alpha)"
   ]
  },
  {
   "cell_type": "markdown",
   "metadata": {},
   "source": [
    "## 12. Escribe una función para verificar si una contraseña dada es fuerte (al menos 8 caracteres, al menos una minúscula, al menos una mayúscula, al menos un número y al menos un carácter especial). Debería devolver True si es fuerte y False si no lo es."
   ]
  },
  {
   "cell_type": "code",
   "execution_count": 52,
   "metadata": {},
   "outputs": [
    {
     "name": "stdout",
     "output_type": "stream",
     "text": [
      "True\n",
      "False\n"
     ]
    }
   ],
   "source": [
    "def check_pass(password):\n",
    "    \n",
    "    has_upper = False\n",
    "    has_lower = False\n",
    "    has_digit = False\n",
    "    has_special = False\n",
    "    char_count = 0\n",
    "    special_characters = \"#@!$%&()^*[]{}\"\n",
    "\n",
    "    # Recorrer la cadena manualmente\n",
    "    for char in password:\n",
    "        # Contar manualmente los caracteres\n",
    "        char_count += 1\n",
    "        # Verificar si es mayúscula\n",
    "        if 'A' <= char <= 'Z':\n",
    "            has_upper = True\n",
    "        # Verificar si es minúscula\n",
    "        elif 'a' <= char <= 'z':\n",
    "            has_lower = True\n",
    "        # Verificar si es un dígito\n",
    "        elif '0' <= char <= '9':\n",
    "            has_digit = True\n",
    "        # Verificar si es un carácter especial\n",
    "        elif char in special_characters:\n",
    "            has_special = True\n",
    "\n",
    "    # Verificar que cumpla todos los criterios\n",
    "    if char_count >= 8 and has_upper and has_lower and has_digit and has_special:\n",
    "        return True\n",
    "    else:\n",
    "        return False\n",
    "\n",
    "# Ejemplo de uso\n",
    "password_1 = \"Ironhack1!\"\n",
    "password_2 = \"holahola\"\n",
    "\n",
    "print(check_pass(password_1)) \n",
    "print(check_pass(password_2)) "
   ]
  },
  {
   "cell_type": "code",
   "execution_count": 54,
   "metadata": {},
   "outputs": [
    {
     "name": "stderr",
     "output_type": "stream",
     "text": [
      "....................................................................................................\n",
      "----------------------------------------------------------------------\n",
      "Ran 100 tests in 0.194s\n",
      "\n",
      "OK\n"
     ]
    }
   ],
   "source": [
    "# Para testear tu función\n",
    "test_pass(check_pass)"
   ]
  }
 ],
 "metadata": {
  "kernelspec": {
   "display_name": "Python 3 (ipykernel)",
   "language": "python",
   "name": "python3"
  },
  "language_info": {
   "codemirror_mode": {
    "name": "ipython",
    "version": 3
   },
   "file_extension": ".py",
   "mimetype": "text/x-python",
   "name": "python",
   "nbconvert_exporter": "python",
   "pygments_lexer": "ipython3",
   "version": "3.12.4"
  },
  "vscode": {
   "interpreter": {
    "hash": "aee8b7b246df8f9039afb4144a1f6fd8d2ca17a180786b69acc140d282b71a49"
   }
  }
 },
 "nbformat": 4,
 "nbformat_minor": 4
}

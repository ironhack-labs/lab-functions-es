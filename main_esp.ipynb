{
 "cells": [
  {
   "cell_type": "markdown",
   "metadata": {},
   "source": [
    "# Functions"
   ]
  },
  {
   "cell_type": "markdown",
   "metadata": {},
   "source": [
    "En este laboratorio pondremos en práctica algunos de los conceptos que hemos aprendido en los últimos días.\n",
    "\n",
    "`NOTA: En este laboratorio deberías intentar escribir todas las funciones por ti mismo utilizando solo la sintaxis más básica de Python y sin funciones como len, count, sum, max, min, in, etc. Dale una oportunidad. 🧑🏻‍💻👩🏻‍💻`\n",
    "\n",
    "La celda después de cada ejercicio contiene algunas pruebas para verificar si tu función funciona como se espera."
   ]
  },
  {
   "cell_type": "code",
   "execution_count": 3,
   "metadata": {},
   "outputs": [],
   "source": [
    "from mod.testing import *\n",
    "import unittest"
   ]
  },
  {
   "cell_type": "markdown",
   "metadata": {},
   "source": [
    "## 1. Escribe una función que devuelva el mayor de dos números"
   ]
  },
  {
   "cell_type": "code",
   "execution_count": 7,
   "metadata": {},
   "outputs": [
    {
     "data": {
      "text/plain": [
       "4"
      ]
     },
     "execution_count": 7,
     "metadata": {},
     "output_type": "execute_result"
    }
   ],
   "source": [
    "def greater(a,b):\n",
    "    if a>b:\n",
    "        return a\n",
    "    else:\n",
    "        return b\n",
    "\n",
    "greater(4,4)"
   ]
  },
  {
   "cell_type": "code",
   "execution_count": 9,
   "metadata": {},
   "outputs": [
    {
     "name": "stderr",
     "output_type": "stream",
     "text": [
      "....................................................................................................\n",
      "----------------------------------------------------------------------\n",
      "Ran 100 tests in 0.035s\n",
      "\n",
      "OK\n"
     ]
    }
   ],
   "source": [
    "# Para testear tu función\n",
    "test_greater(greater)"
   ]
  },
  {
   "cell_type": "markdown",
   "metadata": {},
   "source": [
    "## 2. Ahora escribe una función que devuelva el elemento más"
   ]
  },
  {
   "cell_type": "code",
   "execution_count": 29,
   "metadata": {},
   "outputs": [
    {
     "name": "stdout",
     "output_type": "stream",
     "text": [
      "89\n"
     ]
    },
    {
     "data": {
      "text/plain": [
       "'caballo'"
      ]
     },
     "execution_count": 29,
     "metadata": {},
     "output_type": "execute_result"
    }
   ],
   "source": [
    "def greatest_text(lista):\n",
    "    Largo=\"\"\n",
    "    MaxLong=0\n",
    "    for pal in lista:\n",
    "        Long=0    \n",
    "        for letra in pal:\n",
    "            Long+=1\n",
    "        if Long>MaxLong:\n",
    "            MaxLong=Long\n",
    "            Largo=pal\n",
    "    return Largo\n",
    "\n",
    "def greatest(lista):\n",
    "    Maxn=0\n",
    "    for n in lista:\n",
    "        if n>Maxn:\n",
    "            Maxn=n\n",
    "    return Maxn\n",
    "    \n",
    "print(greatest([34,2,6,77,89,2,37]))\n",
    "greatest_text([\"hola\", \"casa\",\"caballo\",\"pez\"])\n",
    "\n"
   ]
  },
  {
   "cell_type": "code",
   "execution_count": 25,
   "metadata": {},
   "outputs": [
    {
     "name": "stderr",
     "output_type": "stream",
     "text": [
      "....................................................................................................\n",
      "----------------------------------------------------------------------\n",
      "Ran 100 tests in 0.035s\n",
      "\n",
      "OK\n"
     ]
    }
   ],
   "source": [
    "# Para testear tu función\n",
    "test_greatest(greatest)"
   ]
  },
  {
   "cell_type": "markdown",
   "metadata": {},
   "source": [
    "## 3. Escribe una función que sume todos los elementos de una lista"
   ]
  },
  {
   "cell_type": "code",
   "execution_count": 33,
   "metadata": {},
   "outputs": [
    {
     "data": {
      "text/plain": [
       "247"
      ]
     },
     "execution_count": 33,
     "metadata": {},
     "output_type": "execute_result"
    }
   ],
   "source": [
    "def sum_all(lst):\n",
    "    Total=0\n",
    "    for n in lst:\n",
    "        Total += n\n",
    "    return Total\n",
    "    \n",
    "sum_all([34,2,6,77,89,2,37])"
   ]
  },
  {
   "cell_type": "code",
   "execution_count": 35,
   "metadata": {
    "scrolled": true
   },
   "outputs": [
    {
     "name": "stderr",
     "output_type": "stream",
     "text": [
      "....................................................................................................\n",
      "----------------------------------------------------------------------\n",
      "Ran 100 tests in 0.037s\n",
      "\n",
      "OK\n"
     ]
    }
   ],
   "source": [
    "# Para testear tu función\n",
    "test_sum(sum_all)"
   ]
  },
  {
   "cell_type": "markdown",
   "metadata": {},
   "source": [
    "## 4. Escribe otra función que multiplique todos los elementos de una lista"
   ]
  },
  {
   "cell_type": "code",
   "execution_count": 39,
   "metadata": {},
   "outputs": [
    {
     "data": {
      "text/plain": [
       "206905776"
      ]
     },
     "execution_count": 39,
     "metadata": {},
     "output_type": "execute_result"
    }
   ],
   "source": [
    "def mult_all(lst):\n",
    "    Total=1\n",
    "    for n in lst:\n",
    "        Total *= n\n",
    "    return Total\n",
    "    \n",
    "mult_all([34,2,6,77,89,2,37])"
   ]
  },
  {
   "cell_type": "code",
   "execution_count": 41,
   "metadata": {
    "scrolled": true
   },
   "outputs": [
    {
     "name": "stderr",
     "output_type": "stream",
     "text": [
      "....................................................................................................\n",
      "----------------------------------------------------------------------\n",
      "Ran 100 tests in 0.035s\n",
      "\n",
      "OK\n"
     ]
    }
   ],
   "source": [
    "# Para testear tu función\n",
    "test_mult(mult_all)"
   ]
  },
  {
   "cell_type": "markdown",
   "metadata": {},
   "source": [
    "## 5. Ahora combina esas dos ideas y escribe una función que reciba una lista y ya sea \"+\" o \"*\", y produzca el resultado acorde"
   ]
  },
  {
   "cell_type": "code",
   "execution_count": 61,
   "metadata": {},
   "outputs": [
    {
     "data": {
      "text/plain": [
       "(247, 206905776)"
      ]
     },
     "execution_count": 61,
     "metadata": {},
     "output_type": "execute_result"
    }
   ],
   "source": [
    "def oper_all(arr, oper = \"*\"):\n",
    "    if oper ==\"*\":\n",
    "        Total=1\n",
    "    else:\n",
    "        Total=0\n",
    "    for n in arr:\n",
    "        if oper ==\"*\":\n",
    "            Total *= n\n",
    "        else:\n",
    "            Total += n\n",
    "    return Total\n",
    "\n",
    "oper_all([34,2,6,77,89,2,37],\"+\"), oper_all([34,2,6,77,89,2,37],\"*\")"
   ]
  },
  {
   "cell_type": "code",
   "execution_count": 63,
   "metadata": {},
   "outputs": [
    {
     "name": "stderr",
     "output_type": "stream",
     "text": [
      "....................................................................................................\n",
      "----------------------------------------------------------------------\n",
      "Ran 100 tests in 0.035s\n",
      "\n",
      "OK\n"
     ]
    }
   ],
   "source": [
    "# Para testear tu función\n",
    "test_operations(oper_all)"
   ]
  },
  {
   "cell_type": "markdown",
   "metadata": {},
   "source": [
    "## 6. Escribe una función que devuelva el factorial de un número."
   ]
  },
  {
   "cell_type": "code",
   "execution_count": 75,
   "metadata": {},
   "outputs": [
    {
     "data": {
      "text/plain": [
       "720"
      ]
     },
     "execution_count": 75,
     "metadata": {},
     "output_type": "execute_result"
    }
   ],
   "source": [
    "def factorial(n):\n",
    "    f=1\n",
    "    for i in range (1,n+1):\n",
    "        f *=i\n",
    "    return f\n",
    "\n",
    "factorial(6)\n"
   ]
  },
  {
   "cell_type": "code",
   "execution_count": 1,
   "metadata": {},
   "outputs": [],
   "source": [
    "# Fórmula factorial\n",
    "# n! = n * (n - 1) *...*1\n",
    "\n",
    "# Este código define una función llamada \"factorial\" que toma una entrada \"n\". La función utiliza un bucle for para iterar a través del rango de números\n",
    "# desde 1 hasta n+1. Para cada número en ese rango, multiplica el valor actual de x por el número en el rango. Al final del bucle,\n",
    "# la función devuelve el valor final de x, que será el factorial del número de entrada \"n\".\n",
    "\n",
    "# El factorial de un entero positivo n es el producto de todos los enteros positivos menores o iguales a n.\n",
    "# Por ejemplo, el factorial de 6 (escrito \"6!\") es 6 * 5 * 4 * 3 * 2 * 1 = 720.\n",
    "\n",
    "# Así que esta función toma una entrada de cualquier entero positivo y devuelve el factorial de ese número."
   ]
  },
  {
   "cell_type": "code",
   "execution_count": 9,
   "metadata": {},
   "outputs": [
    {
     "name": "stderr",
     "output_type": "stream",
     "text": [
      "....................................................................................................\n",
      "----------------------------------------------------------------------\n",
      "Ran 100 tests in 0.035s\n",
      "\n",
      "OK\n"
     ]
    }
   ],
   "source": [
    "# This will test your function \n",
    "test_factorial(factorial)"
   ]
  },
  {
   "cell_type": "markdown",
   "metadata": {},
   "source": [
    "## 7. Escribe una función que tome una lista y devuelva una lista de los valores únicos.\n",
    "\n",
    "`NOTE: No podemos usar set. 🤔`"
   ]
  },
  {
   "cell_type": "code",
   "execution_count": 1,
   "metadata": {},
   "outputs": [
    {
     "data": {
      "text/plain": [
       "([-34, -6, 2, 34, 37, 77, 89], {-34, -6, 2, 34, 37, 77, 89})"
      ]
     },
     "execution_count": 1,
     "metadata": {},
     "output_type": "execute_result"
    }
   ],
   "source": [
    "def LenList(lst):\n",
    "    Total=0\n",
    "    for n in lst:\n",
    "        Total += 1\n",
    "    return Total\n",
    "\n",
    "def unique(lst: list) -> list:\n",
    "    uni=[]\n",
    "    lst.sort()\n",
    "    lst.append(lst[-1])\n",
    "    for i in range (0,LenList(lst)-1):\n",
    "        if lst[i] != lst[i+1]:\n",
    "            uni.append(lst[i])\n",
    "    uni.append(lst[-1])        \n",
    "    return uni\n",
    "\n",
    "def unique2(lst: list) -> list:\n",
    "    return set(lst)\n",
    "\n",
    "prueba=[34,2,-6,89,-34,77,89,2,37,77]\n",
    "unique(prueba), set(prueba)\n",
    "\n"
   ]
  },
  {
   "cell_type": "code",
   "execution_count": 11,
   "metadata": {},
   "outputs": [
    {
     "name": "stderr",
     "output_type": "stream",
     "text": [
      "....................................................................................................\n",
      "----------------------------------------------------------------------\n",
      "Ran 100 tests in 0.047s\n",
      "\n",
      "OK\n"
     ]
    }
   ],
   "source": [
    "# Para testear tu función \n",
    "test_unique(unique)"
   ]
  },
  {
   "cell_type": "markdown",
   "metadata": {},
   "source": [
    "## 8. Escribe una función que devuelva la moda de una lista, es decir: el elemento que aparece más veces.\n",
    "\n",
    "`NOTE: No se debe usar count... 🧐`"
   ]
  },
  {
   "cell_type": "code",
   "execution_count": 31,
   "metadata": {},
   "outputs": [
    {
     "data": {
      "text/plain": [
       "89"
      ]
     },
     "execution_count": 31,
     "metadata": {},
     "output_type": "execute_result"
    }
   ],
   "source": [
    "def CntElmLst(lst,elm):\n",
    "    Total=0\n",
    "    for n in lst:\n",
    "        if n == elm:\n",
    "            Total += 1\n",
    "    return Total\n",
    "\n",
    "def mode_counter(arr):\n",
    "    moda=0\n",
    "    nmoda=0\n",
    "    for n in arr:\n",
    "        xmoda = CntElmLst(arr,n)\n",
    "        if xmoda > nmoda:\n",
    "            moda = n\n",
    "            nmoda = xmoda\n",
    "    return moda\n",
    "\n",
    "prueba=[34,2,-6,89,-34,77,89,2,37,89,77]\n",
    "CntElmLst(prueba, 89)\n",
    "mode_counter(prueba)\n"
   ]
  },
  {
   "cell_type": "code",
   "execution_count": 36,
   "metadata": {},
   "outputs": [
    {
     "name": "stderr",
     "output_type": "stream",
     "text": [
      "....................................................................................................\n",
      "----------------------------------------------------------------------\n",
      "Ran 100 tests in 0.083s\n",
      "\n",
      "OK\n"
     ]
    }
   ],
   "source": [
    "# Para testear tu función \n",
    "test_mode(mode_counter)"
   ]
  },
  {
   "cell_type": "markdown",
   "metadata": {},
   "source": [
    "## 9. Escribe una función que calcule la desviación estándar de una lista.\n",
    "`NOTE: no utilices librerías ni ninguna función ya construida. 😉`"
   ]
  },
  {
   "cell_type": "code",
   "execution_count": 131,
   "metadata": {},
   "outputs": [
    {
     "data": {
      "text/plain": [
       "(41.45454545454545, 2044.2727272727273, 45.2136343072831)"
      ]
     },
     "execution_count": 131,
     "metadata": {},
     "output_type": "execute_result"
    }
   ],
   "source": [
    "import math\n",
    "def media(lst, Bessel=False):\n",
    "    Total=0\n",
    "    i = 0\n",
    "    for n in lst:\n",
    "        i += 1\n",
    "        Total += n\n",
    "    if Bessel:\n",
    "        i -=1\n",
    "    return Total/i\n",
    "\n",
    "def varianza(lst):\n",
    "    m = media(lst)\n",
    "    desv = []\n",
    "    for n in lst:\n",
    "        desv.append((n-m)**2)    \n",
    "    return media(desv,True)\n",
    "\n",
    "def st_dev(list_sd):\n",
    "    return math.sqrt(varianza(list_sd))\n",
    "\n",
    "prueba=[34,2,-6,89,-34,77,89,2,37,89,77]\n",
    "media (prueba), varianza (prueba), st_dev (prueba)\n"
   ]
  },
  {
   "cell_type": "code",
   "execution_count": 133,
   "metadata": {},
   "outputs": [
    {
     "name": "stderr",
     "output_type": "stream",
     "text": [
      "....................................................................................................\n",
      "----------------------------------------------------------------------\n",
      "Ran 100 tests in 0.033s\n",
      "\n",
      "OK\n"
     ]
    }
   ],
   "source": [
    "#### Para testear tu función\n",
    "test_stdev(st_dev)"
   ]
  },
  {
   "cell_type": "markdown",
   "metadata": {},
   "source": [
    "## 10. Escribe una función para verificar si una cadena es un pangrama, es decir: si contiene todas las letras del alfabeto al menos una vez. Ten en cuenta que las cadenas pueden contener caracteres que no son letras."
   ]
  },
  {
   "cell_type": "code",
   "execution_count": 35,
   "metadata": {},
   "outputs": [
    {
     "data": {
      "text/plain": [
       "(False, True)"
      ]
     },
     "execution_count": 35,
     "metadata": {},
     "output_type": "execute_result"
    }
   ],
   "source": [
    "def LenList(lst):\n",
    "    Total=0\n",
    "    for n in lst:\n",
    "        Total += 1\n",
    "    return Total\n",
    "    \n",
    "def Contiene (txt,elm):\n",
    "    l=list(txt.upper())\n",
    "    i = 0\n",
    "    encontrado = False\n",
    "    while not encontrado and i<=LenList(l)-1:\n",
    "        if l[i] == elm.upper():\n",
    "            encontrado=True\n",
    "        i += 1\n",
    "    return encontrado\n",
    "\n",
    "def pangram(string):\n",
    "    ABC = ['A','B','C','D','E','F','G','H','I','J','K','L','M','N','O','P','Q','R','S','T','U','V','W','X','Y','Z']\n",
    "    pang=True\n",
    "    for l in ABC:\n",
    "        if not Contiene(string,l):\n",
    "            pang=False\n",
    "            break\n",
    "    return pang\n",
    "\n",
    "prueba=\"Escribe una función p&ara verificar si una cadena es un pangrama\"\n",
    "prueba2=\"Escribe una AB34CDEF f.unción para verificar GHIJK78L*MNOPQ ca+dena es un pangr.amaRSTUVWXYZ\"\n",
    "pangram(prueba),pangram(prueba2)\n",
    "    "
   ]
  },
  {
   "cell_type": "code",
   "execution_count": 39,
   "metadata": {},
   "outputs": [
    {
     "name": "stderr",
     "output_type": "stream",
     "text": [
      "..............................\n",
      "----------------------------------------------------------------------\n",
      "Ran 30 tests in 0.025s\n",
      "\n",
      "OK\n"
     ]
    }
   ],
   "source": [
    "# Para testear tu función\n",
    "test_pangram(pangram)"
   ]
  },
  {
   "cell_type": "markdown",
   "metadata": {},
   "source": [
    "## 11. Escribe una función que reciba una cadena de palabras separadas por comas y devuelva una cadena de palabras separadas por comas ordenadas alfabéticamente.\n",
    "\n",
    "`NOTA: Puedes usar sorted pero no split y definitivamente no join! 🤪`"
   ]
  },
  {
   "cell_type": "code",
   "execution_count": 95,
   "metadata": {},
   "outputs": [
    {
     "data": {
      "text/plain": [
       "'barco,cocacola,hola,subido,subido,zapato'"
      ]
     },
     "execution_count": 95,
     "metadata": {},
     "output_type": "execute_result"
    }
   ],
   "source": [
    "def LenList(lst):\n",
    "    Total=0\n",
    "    for n in lst:\n",
    "        Total += 1\n",
    "    return Total\n",
    "    \n",
    "def sort_alpha(string):\n",
    "    #Crear lista\n",
    "    LPal=[]\n",
    "    Pal=\"\"\n",
    "    for l in string:\n",
    "        if l == \",\":\n",
    "            LPal.append(Pal)\n",
    "            Pal=\"\"\n",
    "        else:\n",
    "            Pal +=l\n",
    "    LPal.append(Pal)\n",
    "    #Ordenar lista\n",
    "    LPal.sort()\n",
    "    #Montar cadena\n",
    "    cadena=\"\"\n",
    "    for p in LPal:\n",
    "        cadena += p \n",
    "        if LPal.index(p)+1!=LenList(LPal):\n",
    "            cadena += \",\"\n",
    "    return cadena\n",
    "\n",
    "prueba=\"hola,cocacola,zapato,barco,subido,subido\"\n",
    "sort_alpha(prueba)\n"
   ]
  },
  {
   "cell_type": "code",
   "execution_count": 97,
   "metadata": {},
   "outputs": [
    {
     "name": "stderr",
     "output_type": "stream",
     "text": [
      "....................................................................................................\n",
      "----------------------------------------------------------------------\n",
      "Ran 100 tests in 0.033s\n",
      "\n",
      "OK\n"
     ]
    }
   ],
   "source": [
    "# Para testear tu función \n",
    "test_alpha(sort_alpha)"
   ]
  },
  {
   "cell_type": "markdown",
   "metadata": {},
   "source": [
    "## 12. Escribe una función para verificar si una contraseña dada es fuerte (al menos 8 caracteres, al menos una minúscula, al menos una mayúscula, al menos un número y al menos un carácter especial). Debería devolver True si es fuerte y False si no lo es."
   ]
  },
  {
   "cell_type": "code",
   "execution_count": 127,
   "metadata": {},
   "outputs": [
    {
     "data": {
      "text/plain": [
       "(False, False, False, True)"
      ]
     },
     "execution_count": 127,
     "metadata": {},
     "output_type": "execute_result"
    }
   ],
   "source": [
    "def check_pass(password):\n",
    "    Long=False\n",
    "    Minu=False\n",
    "    Mayu=False\n",
    "    Nume=False\n",
    "    Espe=False\n",
    "    for n in password:\n",
    "        Long += 1\n",
    "        if n == n.lower() and n.isalpha():\n",
    "            Minu=True\n",
    "        if n == n.upper() and n.isalpha():\n",
    "            Mayu=True\n",
    "        if n.isdigit():\n",
    "            Nume=True\n",
    "        if not n.isalpha() and not n.isdigit():\n",
    "            Espe=True\n",
    "    \n",
    "    return Long>=8 and Minu and Mayu and Nume and Espe\n",
    "\n",
    "Pass01=\"zapato_\"\n",
    "Pass02=\"zapato_23\"\n",
    "Pass03=\"Zapato23\"\n",
    "Pass04=\"Zapato_23\"\n",
    "check_pass(Pass01),check_pass(Pass02),check_pass(Pass03),check_pass(Pass04)"
   ]
  },
  {
   "cell_type": "code",
   "execution_count": 125,
   "metadata": {},
   "outputs": [
    {
     "name": "stderr",
     "output_type": "stream",
     "text": [
      "....................................................................................................\n",
      "----------------------------------------------------------------------\n",
      "Ran 100 tests in 0.037s\n",
      "\n",
      "OK\n"
     ]
    }
   ],
   "source": [
    "# Para testear tu función\n",
    "test_pass(check_pass)"
   ]
  },
  {
   "cell_type": "code",
   "execution_count": null,
   "metadata": {},
   "outputs": [],
   "source": []
  }
 ],
 "metadata": {
  "kernelspec": {
   "display_name": "Python 3 (ipykernel)",
   "language": "python",
   "name": "python3"
  },
  "language_info": {
   "codemirror_mode": {
    "name": "ipython",
    "version": 3
   },
   "file_extension": ".py",
   "mimetype": "text/x-python",
   "name": "python",
   "nbconvert_exporter": "python",
   "pygments_lexer": "ipython3",
   "version": "3.12.4"
  },
  "vscode": {
   "interpreter": {
    "hash": "aee8b7b246df8f9039afb4144a1f6fd8d2ca17a180786b69acc140d282b71a49"
   }
  }
 },
 "nbformat": 4,
 "nbformat_minor": 4
}

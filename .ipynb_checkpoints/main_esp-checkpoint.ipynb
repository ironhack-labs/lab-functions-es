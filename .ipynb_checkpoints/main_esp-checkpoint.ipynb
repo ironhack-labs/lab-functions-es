{
 "cells": [
  {
   "cell_type": "markdown",
   "metadata": {},
   "source": [
    "# Functions"
   ]
  },
  {
   "cell_type": "markdown",
   "metadata": {},
   "source": [
    "En este laboratorio pondremos en práctica algunos de los conceptos que hemos aprendido en los últimos días.\n",
    "\n",
    "`NOTA: En este laboratorio deberías intentar escribir todas las funciones por ti mismo utilizando solo la sintaxis más básica de Python y sin funciones como len, count, sum, max, min, in, etc. Dale una oportunidad. 🧑🏻‍💻👩🏻‍💻`\n",
    "\n",
    "La celda después de cada ejercicio contiene algunas pruebas para verificar si tu función funciona como se espera."
   ]
  },
  {
   "cell_type": "code",
   "execution_count": null,
   "metadata": {},
   "outputs": [],
   "source": [
    "from mod.testing import *\n",
    "import unittest"
   ]
  },
  {
   "cell_type": "markdown",
   "metadata": {},
   "source": [
    "## 1. Escribe una función que devuelva el mayor de dos números"
   ]
  },
  {
   "cell_type": "code",
   "execution_count": 83,
   "metadata": {},
   "outputs": [],
   "source": [
    "def greater(a,b):\n",
    "    if a > b:\n",
    "        print(f\"El mayor es: {a}\")\n",
    "        return a\n",
    "    else:\n",
    "        print(f\"El mayor es: {b}\")\n",
    "        return b\n",
    "\n",
    "#test_greater = greater(10,2)"
   ]
  },
  {
   "cell_type": "code",
   "execution_count": 81,
   "metadata": {},
   "outputs": [],
   "source": [
    "# Para testear tu función\n",
    "test_greater(greater)"
   ]
  },
  {
   "cell_type": "markdown",
   "metadata": {},
   "source": [
    "## 2. Ahora escribe una función que devuelva el elemento más"
   ]
  },
  {
   "cell_type": "code",
   "execution_count": 119,
   "metadata": {},
   "outputs": [
    {
     "data": {
      "text/plain": [
       "<function __main__.greatest(numbers)>"
      ]
     },
     "execution_count": 119,
     "metadata": {},
     "output_type": "execute_result"
    }
   ],
   "source": [
    "def greatest(numbers):\n",
    "    greatest_number=0\n",
    "    for numbers in numbers:\n",
    "        if greatest_number > numbers:\n",
    "            greatest_number =  numbers\n",
    "        return greatest_number"
   ]
  },
  {
   "cell_type": "code",
   "execution_count": null,
   "metadata": {},
   "outputs": [],
   "source": [
    "# Para testear tu función\n",
    "test_greatest(greatest)"
   ]
  },
  {
   "cell_type": "markdown",
   "metadata": {},
   "source": [
    "## 3. Escribe una función que sume todos los elementos de una lista"
   ]
  },
  {
   "cell_type": "code",
   "execution_count": 75,
   "metadata": {},
   "outputs": [
    {
     "name": "stdout",
     "output_type": "stream",
     "text": [
      "150\n"
     ]
    }
   ],
   "source": [
    "def sum_all(lst):\n",
    "    resultado = 0\n",
    "    for numero in lst:\n",
    "        resultado += numero\n",
    "    return resultado\n",
    "\n",
    "ejem_lst = [10, 20, 30, 40, 50]\n",
    "resultado = sum_all(ejem_lst)\n",
    "\n",
    "print(resultado)"
   ]
  },
  {
   "cell_type": "code",
   "execution_count": 73,
   "metadata": {
    "scrolled": true
   },
   "outputs": [],
   "source": [
    "# Para testear tu función\n",
    "test_sum(sum_all)"
   ]
  },
  {
   "cell_type": "markdown",
   "metadata": {},
   "source": [
    "## 4. Escribe otra función que multiplique todos los elementos de una lista"
   ]
  },
  {
   "cell_type": "code",
   "execution_count": 59,
   "metadata": {},
   "outputs": [
    {
     "name": "stdout",
     "output_type": "stream",
     "text": [
      "12000000\n"
     ]
    }
   ],
   "source": [
    "def mult_all(lst):\n",
    "    resultado = 1\n",
    "    for numero in lst:\n",
    "        resultado *= numero\n",
    "    return resultado\n",
    "\n",
    "\n",
    "ejem_lst = [10, 20, 30, 40, 50]\n",
    "resultado = mult_all(ejem_lst)\n",
    "\n",
    "print(resultado)\n"
   ]
  },
  {
   "cell_type": "code",
   "execution_count": null,
   "metadata": {
    "scrolled": true
   },
   "outputs": [],
   "source": [
    "# Para testear tu función\n",
    "test_mult(mult_all)"
   ]
  },
  {
   "cell_type": "markdown",
   "metadata": {},
   "source": [
    "## 5. Ahora combina esas dos ideas y escribe una función que reciba una lista y ya sea \"+\" o \"*\", y produzca el resultado acorde"
   ]
  },
  {
   "cell_type": "code",
   "execution_count": 102,
   "metadata": {},
   "outputs": [
    {
     "name": "stdout",
     "output_type": "stream",
     "text": [
      "Resultado de la suma: 150\n",
      "Resultado de la multiplicación: 12000000\n"
     ]
    }
   ],
   "source": [
    "def oper_all(arr, oper = \"*\"):\n",
    "       if oper == \"+\":\n",
    "        resultado = 0\n",
    "        for numero in arr:\n",
    "            resultado += numero\n",
    "       elif oper == \"*\":\n",
    "        resultado = 1\n",
    "        for numero in arr:\n",
    "            resultado *= numero\n",
    "       return resultado\n",
    "\n",
    "ejem_lst = [10, 20, 30, 40, 50]\n",
    "resultado_suma = oper_all(ejem_lst, \"+\")\n",
    "print(\"Resultado de la suma:\", resultado_suma)\n",
    "resultado_multiplicacion = oper_all(ejem_lst)\n",
    "print(\"Resultado de la multiplicación:\", resultado_multiplicacion)\n"
   ]
  },
  {
   "cell_type": "code",
   "execution_count": null,
   "metadata": {},
   "outputs": [],
   "source": [
    "# Para testear tu función\n",
    "test_operations(oper_all)"
   ]
  },
  {
   "cell_type": "markdown",
   "metadata": {},
   "source": [
    "## 6. Escribe una función que devuelva el factorial de un número."
   ]
  },
  {
   "cell_type": "code",
   "execution_count": 114,
   "metadata": {},
   "outputs": [
    {
     "name": "stdout",
     "output_type": "stream",
     "text": [
      "24\n"
     ]
    }
   ],
   "source": [
    "def factorial(n):\n",
    "    resultado = 1\n",
    "    for numero in range(1, n+1):\n",
    "        resultado *= numero\n",
    "    return resultado\n",
    "\n",
    "n = (4)\n",
    "resultado = factorial (n)\n",
    "print (resultado)"
   ]
  },
  {
   "cell_type": "code",
   "execution_count": 1,
   "metadata": {},
   "outputs": [],
   "source": [
    "# Fórmula factorial\n",
    "# n! = n * (n - 1) *...*1\n",
    "\n",
    "# Este código define una función llamada \"factorial\" que toma una entrada \"n\". La función utiliza un bucle for para iterar a través del rango de números\n",
    "# desde 1 hasta n+1. Para cada número en ese rango, multiplica el valor actual de x por el número en el rango. Al final del bucle,\n",
    "# la función devuelve el valor final de x, que será el factorial del número de entrada \"n\".\n",
    "\n",
    "# El factorial de un entero positivo n es el producto de todos los enteros positivos menores o iguales a n.\n",
    "# Por ejemplo, el factorial de 6 (escrito \"6!\") es 6 * 5 * 4 * 3 * 2 * 1 = 720.\n",
    "\n",
    "# Así que esta función toma una entrada de cualquier entero positivo y devuelve el factorial de ese número."
   ]
  },
  {
   "cell_type": "code",
   "execution_count": null,
   "metadata": {},
   "outputs": [],
   "source": [
    "# This will test your function \n",
    "test_factorial(factorial)"
   ]
  },
  {
   "cell_type": "markdown",
   "metadata": {},
   "source": [
    "## 7. Escribe una función que tome una lista y devuelva una lista de los valores únicos.\n",
    "\n",
    "`NOTE: No podemos usar set. 🤔`"
   ]
  },
  {
   "cell_type": "code",
   "execution_count": 116,
   "metadata": {},
   "outputs": [
    {
     "name": "stdout",
     "output_type": "stream",
     "text": [
      "[1, 2, 3, 4, 5]\n"
     ]
    }
   ],
   "source": [
    "def unique(lst_un):\n",
    "    unique_values = []\n",
    "    for item in lst_un:\n",
    "        if item not in unique_values:\n",
    "            unique_values.append(item)\n",
    "    return unique_values\n",
    "\n",
    "lista = [1, 2, 2, 3, 4, 4, 5]\n",
    "resultado = unique(lista)\n",
    "print(resultado) "
   ]
  },
  {
   "cell_type": "code",
   "execution_count": null,
   "metadata": {},
   "outputs": [],
   "source": [
    "# Para testear tu función \n",
    "test_unique(unique)"
   ]
  },
  {
   "cell_type": "markdown",
   "metadata": {},
   "source": [
    "## 8. Escribe una función que devuelva la moda de una lista, es decir: el elemento que aparece más veces.\n",
    "\n",
    "`NOTE: No se debe usar count... 🧐`"
   ]
  },
  {
   "cell_type": "code",
   "execution_count": 120,
   "metadata": {},
   "outputs": [
    {
     "name": "stdout",
     "output_type": "stream",
     "text": [
      "2\n"
     ]
    }
   ],
   "source": [
    "def mode_counter(arr):\n",
    "    frecuencia = {}\n",
    "    for item in arr:\n",
    "        if item in frecuencia:\n",
    "            frecuencia[item] += 1\n",
    "        else:\n",
    "            frecuencia[item] = 1\n",
    "    moda = None\n",
    "    max_frecuencia = 0\n",
    "    for key, value in frecuencia.items():\n",
    "        if value > max_frecuencia:\n",
    "            max_frecuencia = value\n",
    "            moda = key   \n",
    "    return moda\n",
    "\n",
    "\n",
    "arr = [1, 3, 2, 3, 4, 2, 2, 5]\n",
    "resultado = mode_counter(arr)\n",
    "print(resultado)\n"
   ]
  },
  {
   "cell_type": "code",
   "execution_count": null,
   "metadata": {},
   "outputs": [],
   "source": [
    "# Para testear tu función \n",
    "test_mode(mode_counter)"
   ]
  },
  {
   "cell_type": "markdown",
   "metadata": {},
   "source": [
    "## 9. Escribe una función que calcule la desviación estándar de una lista.\n",
    "`NOTE: no utilices librerías ni ninguna función ya construida. 😉`"
   ]
  },
  {
   "cell_type": "code",
   "execution_count": 126,
   "metadata": {},
   "outputs": [
    {
     "name": "stdout",
     "output_type": "stream",
     "text": [
      "1.4142135623730951\n"
     ]
    }
   ],
   "source": [
    "def st_dev(list_sd):\n",
    "    num_elementos = 0\n",
    "    for item in list_sd:\n",
    "        num_elementos += 1\n",
    "    suma = 0\n",
    "    for i in list_sd:\n",
    "        suma += i\n",
    "    media = suma / num_elementos\n",
    "    sumatoria = 0\n",
    "    for i in list_sd:\n",
    "        sumatoria += (i - media) ** 2\n",
    "    desviacion = (sumatoria / num_elementos) ** 0.5\n",
    "    return desviacion\n",
    "\n",
    "lista = [1, 2, 3, 4, 5]\n",
    "resultado = st_dev(lista)\n",
    "print(resultado) "
   ]
  },
  {
   "cell_type": "code",
   "execution_count": null,
   "metadata": {},
   "outputs": [],
   "source": [
    "# Para testear tu función\n",
    "test_stdev(st_dev)"
   ]
  },
  {
   "cell_type": "markdown",
   "metadata": {},
   "source": [
    "## 10. Escribe una función para verificar si una cadena es un pangrama, es decir: si contiene todas las letras del alfabeto al menos una vez. Ten en cuenta que las cadenas pueden contener caracteres que no son letras."
   ]
  },
  {
   "cell_type": "code",
   "execution_count": 130,
   "metadata": {},
   "outputs": [
    {
     "name": "stdout",
     "output_type": "stream",
     "text": [
      "True\n"
     ]
    }
   ],
   "source": [
    "def pangram(string):\n",
    "    string = string.lower()\n",
    "    alfabeto = set('abcdefghijklmnopqrstuvwxyz')\n",
    "    letras_en_string = set()\n",
    "    for item in string:\n",
    "        if ('a' <= item <= 'z') or ('A' <= item <= 'Z'):\n",
    "            letras_en_string.add(item.lower())\n",
    "    return letras_en_string >= alfabeto\n",
    "\n",
    "pangrama = \"Cada vez que trabajo Félix me paga con whisky añejo\"\n",
    "resultado = pangram(pangrama)\n",
    "print(resultado) "
   ]
  },
  {
   "cell_type": "code",
   "execution_count": null,
   "metadata": {},
   "outputs": [],
   "source": [
    "# Para testear tu función\n",
    "test_pangram(pangram)"
   ]
  },
  {
   "cell_type": "markdown",
   "metadata": {},
   "source": [
    "## 11. Escribe una función que reciba una cadena de palabras separadas por comas y devuelva una cadena de palabras separadas por comas ordenadas alfabéticamente.\n",
    "\n",
    "`NOTA: Puedes usar sorted pero no split y definitivamente no join! 🤪`"
   ]
  },
  {
   "cell_type": "code",
   "execution_count": 134,
   "metadata": {},
   "outputs": [
    {
     "name": "stdout",
     "output_type": "stream",
     "text": [
      "añejo cada, con, felix, me, paga, que, trabajo, vez, whisky,\n"
     ]
    }
   ],
   "source": [
    "def sort_alpha(string):\n",
    "    palabras = []\n",
    "    palabra = \"\"\n",
    "    for item in string:\n",
    "        if item == \" \":\n",
    "            palabras.append(palabra)\n",
    "            palabra = \"\"\n",
    "        else:\n",
    "            palabra += item\n",
    "    if palabra:\n",
    "        palabras.append(palabra)\n",
    "    palabras_ordenadas = sorted(palabras)\n",
    "    resultado = \"\"\n",
    "    for i in range(len(palabras_ordenadas)):\n",
    "        resultado += palabras_ordenadas[i]\n",
    "        if i < len(palabras_ordenadas) - 1:\n",
    "            resultado += \" \"\n",
    "    return resultado\n",
    "\n",
    "alpha = \"cada, vez, que, trabajo, felix, me, paga, con, whisky, añejo\"\n",
    "resultado = sort_alpha(alpha)\n",
    "print(resultado) \n",
    "\n",
    "\n",
    "# Para testear la función\n",
    "# test_alpha(sort_alpha)\n"
   ]
  },
  {
   "cell_type": "code",
   "execution_count": null,
   "metadata": {},
   "outputs": [],
   "source": [
    "# Para testear tu función \n",
    "test_alpha(sort_alpha)"
   ]
  },
  {
   "cell_type": "markdown",
   "metadata": {},
   "source": [
    "## 12. Escribe una función para verificar si una contraseña dada es fuerte (al menos 8 caracteres, al menos una minúscula, al menos una mayúscula, al menos un número y al menos un carácter especial). Debería devolver True si es fuerte y False si no lo es."
   ]
  },
  {
   "cell_type": "code",
   "execution_count": 136,
   "metadata": {},
   "outputs": [
    {
     "name": "stdout",
     "output_type": "stream",
     "text": [
      "True\n"
     ]
    }
   ],
   "source": [
    "def check_pass(password):\n",
    "    tiene_min = False\n",
    "    tiene_may = False\n",
    "    tiene_num = False\n",
    "    tiene_esp = False\n",
    "    caracteres_especiales = \"!@#$%^&*()-_+=<>?/\\\\|{}[]~`\"\n",
    "    \n",
    "    # Verificar cada carácter en la contraseña\n",
    "    for item in password:\n",
    "        if item.islower():\n",
    "            tiene_min = True\n",
    "        elif item.isupper():\n",
    "            tiene_may = True\n",
    "        elif item.isdigit():\n",
    "            tiene_num = True\n",
    "        elif not item.isalnum():\n",
    "            tiene_esp = True\n",
    "    return tiene_min and tiene_may and tiene_num and tiene_esp\n",
    "\n",
    "\n",
    "ejem_pass = \"Ironhack123$\"\n",
    "resultado = check_pass(ejem_pass)\n",
    "print(resultado) "
   ]
  },
  {
   "cell_type": "code",
   "execution_count": null,
   "metadata": {},
   "outputs": [],
   "source": [
    "# Para testear tu función\n",
    "test_pass(check_pass)"
   ]
  }
 ],
 "metadata": {
  "kernelspec": {
   "display_name": "Python 3 (ipykernel)",
   "language": "python",
   "name": "python3"
  },
  "language_info": {
   "codemirror_mode": {
    "name": "ipython",
    "version": 3
   },
   "file_extension": ".py",
   "mimetype": "text/x-python",
   "name": "python",
   "nbconvert_exporter": "python",
   "pygments_lexer": "ipython3",
   "version": "3.12.4"
  },
  "vscode": {
   "interpreter": {
    "hash": "aee8b7b246df8f9039afb4144a1f6fd8d2ca17a180786b69acc140d282b71a49"
   }
  }
 },
 "nbformat": 4,
 "nbformat_minor": 4
}
